{
 "cells": [
  {
   "cell_type": "markdown",
   "id": "caeb8d6e-2c2f-451b-bca8-b67d58c05527",
   "metadata": {},
   "source": [
    "### Description of datasets\n",
    "\n",
    "channels: This dataset contains information about the sales channels (marketplaces) where our store owners sell their goods and food.\n",
    "\n",
    "deliveries: This dataset contains information about the deliveries made by our partner delivery drivers.\n",
    "\n",
    "drivers: This dataset contains information about the partner delivery drivers. They are stationed at our hubs, and every time an order is processed, they make the deliveries to the consumers' homes.\n",
    "\n",
    "hubs: This dataset contains information about the Delivery Center hubs. Hubs are the distribution centers for \n",
    "orders, and deliveries originate from there.\n",
    "\n",
    "orders: This dataset contains information about the sales processed through the Delivery Center platform.\n",
    "\n",
    "payments: This dataset contains information about the payments made to the Delivery Center.\n",
    "\n",
    "stores: This dataset contains information about the store owners. They use the Delivery Center platform to sell their items (goods and/or food) on the marketplaces.### "
   ]
  },
  {
   "cell_type": "code",
   "execution_count": 2,
   "id": "a1ff9b82-7e28-4c22-86f8-4483fc2ba8f9",
   "metadata": {},
   "outputs": [],
   "source": [
    "import pyspark\n",
    "from pyspark.sql import SparkSession\n",
    "from pyspark.sql.types import StructType"
   ]
  },
  {
   "cell_type": "code",
   "execution_count": 3,
   "id": "ee5da1cc-ba3a-4d11-811d-5da234cd15d7",
   "metadata": {
    "collapsed": true,
    "jupyter": {
     "outputs_hidden": true
    },
    "scrolled": true
   },
   "outputs": [
    {
     "name": "stderr",
     "output_type": "stream",
     "text": [
      "24/04/23 11:10:44 WARN Utils: Your hostname, MacBook-Air-Paulina.local resolves to a loopback address: 127.0.0.1; using 192.168.33.5 instead (on interface en0)\n",
      "24/04/23 11:10:44 WARN Utils: Set SPARK_LOCAL_IP if you need to bind to another address\n",
      "Setting default log level to \"WARN\".\n",
      "To adjust logging level use sc.setLogLevel(newLevel). For SparkR, use setLogLevel(newLevel).\n",
      "24/04/23 11:10:44 WARN NativeCodeLoader: Unable to load native-hadoop library for your platform... using builtin-java classes where applicable\n"
     ]
    }
   ],
   "source": [
    "spark = SparkSession.builder.appName(\"hdfs_test\").getOrCreate()"
   ]
  },
  {
   "cell_type": "code",
   "execution_count": 4,
   "id": "48821737-6779-4108-8ba9-ed7b1011a755",
   "metadata": {
    "scrolled": true
   },
   "outputs": [
    {
     "name": "stderr",
     "output_type": "stream",
     "text": [
      "                                                                                \r"
     ]
    }
   ],
   "source": [
    "files = ['channels', 'deliveries', 'drivers', 'hubs', 'orders', 'payments', 'stores']\n",
    "dfs = {}\n",
    "\n",
    "for file in files:\n",
    "    dfs[file] = spark.read.csv(\"hdfs://localhost:9000/user/maciek/\"+file+\".csv\", header=True, inferSchema=True)"
   ]
  },
  {
   "cell_type": "code",
   "execution_count": 5,
   "id": "1e010d13-e7ae-4b73-8fdb-cd5ccfe85541",
   "metadata": {
    "collapsed": true,
    "jupyter": {
     "outputs_hidden": true
    },
    "scrolled": true
   },
   "outputs": [
    {
     "name": "stdout",
     "output_type": "stream",
     "text": [
      "+----------+--------------+------------+\n",
      "|channel_id|  channel_name|channel_type|\n",
      "+----------+--------------+------------+\n",
      "|         1|   OTHER PLACE| OWN CHANNEL|\n",
      "|         2|   PHONE PLACE| OWN CHANNEL|\n",
      "|         3|   WHATS PLACE| OWN CHANNEL|\n",
      "|         4|    FACE PLACE| OWN CHANNEL|\n",
      "|         5|    FOOD PLACE| MARKETPLACE|\n",
      "|         6|   STORE PLACE| OWN CHANNEL|\n",
      "|         7|  BERLIN PLACE| OWN CHANNEL|\n",
      "|         8|  MADRID PLACE| OWN CHANNEL|\n",
      "|         9|   THINK PLACE| OWN CHANNEL|\n",
      "|        10|  LISBON PLACE| OWN CHANNEL|\n",
      "|        11|   SUPER PLACE| OWN CHANNEL|\n",
      "|        12|     ALL PLACE| MARKETPLACE|\n",
      "|        13|VELOCITY PLACE| MARKETPLACE|\n",
      "|        15|    EATS PLACE| MARKETPLACE|\n",
      "|        17|   SHOPP PLACE| MARKETPLACE|\n",
      "|        20|  MUNICH PLACE| MARKETPLACE|\n",
      "|        21|  LONDON PLACE| MARKETPLACE|\n",
      "|        23|  ATCHIN PLACE| MARKETPLACE|\n",
      "|        24|    FULL PLACE| MARKETPLACE|\n",
      "|        25|      ON PLACE| MARKETPLACE|\n",
      "+----------+--------------+------------+\n",
      "only showing top 20 rows\n",
      "\n"
     ]
    }
   ],
   "source": [
    "channels = dfs['channels']\n",
    "channels.show()"
   ]
  },
  {
   "cell_type": "code",
   "execution_count": 6,
   "id": "02507bbb-4632-4833-9e9b-295d23d42863",
   "metadata": {
    "collapsed": true,
    "jupyter": {
     "outputs_hidden": true
    }
   },
   "outputs": [
    {
     "name": "stdout",
     "output_type": "stream",
     "text": [
      "channel_name number: 40\n",
      "\n",
      "unique values in channel name column: 40\n",
      "\n",
      "FOOD PLACE null values: 0\n",
      "FACE PLACE null values: 0\n",
      "LONGO PLACE null values: 0\n",
      "CENTER PLACE null values: 0\n",
      "ALL PLACE null values: 0\n",
      "RONALD PLACE null values: 0\n",
      "FULL PLACE null values: 0\n",
      "PORTO PLACE null values: 0\n",
      "SUPER PLACE null values: 0\n",
      "VELOCITY PLACE null values: 0\n",
      "AHORA PLACE null values: 0\n",
      "SEARCH PLACE null values: 0\n",
      "GLUB PLACE null values: 0\n",
      "CAICAI PLACE null values: 0\n",
      "OTHER PLACE null values: 0\n",
      "BERLIN PLACE null values: 0\n",
      "BEATLES PLACE null values: 0\n",
      "ON PLACE null values: 0\n",
      "SPEED PLACE null values: 0\n",
      "LONDON PLACE null values: 0\n",
      "WEAR PLACE null values: 0\n",
      "SAN PLACE null values: 0\n",
      "LISBON PLACE null values: 0\n",
      "SHOPP PLACE null values: 0\n",
      "RIBA PLACE null values: 0\n",
      "STORE PLACE null values: 0\n",
      "MUNICH PLACE null values: 0\n",
      "REGISTER PLACE null values: 0\n",
      "OWN PLACE null values: 0\n",
      "MADRID PLACE null values: 0\n",
      "THINK PLACE null values: 0\n",
      "EATS PLACE null values: 0\n",
      "ATCHIN PLACE null values: 0\n",
      "OFF PLACE null values: 0\n",
      "BRAZIL PLACE null values: 0\n",
      "READY PLACE null values: 0\n",
      "PHONE PLACE null values: 0\n",
      "CHOCO PLACE null values: 0\n",
      "PANCEPS PLACE null values: 0\n",
      "WHATS PLACE null values: 0\n",
      "\n",
      "number of unique values in each column:\n",
      " {'channel_id': 0, 'channel_name': 0, 'channel_type': 0}\n"
     ]
    }
   ],
   "source": [
    "from pyspark.sql import functions as F\n",
    "\n",
    "\n",
    "print(f\"channel_name number: {channels.select('channel_name').distinct().count()}\\n\")\n",
    "\n",
    "### unique values occurance \n",
    "grouped_data = channels.groupBy('channel_name').agg(F.count('*').alias('count'))\n",
    "print(f\"unique values in channel name column: {grouped_data.count()}\\n\")\n",
    "\n",
    "### null values number for each value in channel name\n",
    "nul_vals_cn = channels.groupBy('channel_name').agg(F.sum(F.col('channel_name').isNull().cast(\"int\")).alias(\"null_count\")).collect()\n",
    "for row in nul_vals_cn:\n",
    "    print(f\"{row['channel_name']} null values: {row['null_count']}\")\n",
    "\n",
    "### total null values number in each column\n",
    "tot_nan_vals = channels.select(*(F.sum(F.col(c).isNull().cast(\"int\")).alias(c) for c in channels.columns)).collect()[0].asDict()\n",
    "print(f\"\\nnumber of unique values in each column:\\n {tot_nan_vals}\")\n"
   ]
  },
  {
   "cell_type": "code",
   "execution_count": 7,
   "id": "bae0459f-4d52-4d25-88db-5ed5ca0a1c77",
   "metadata": {},
   "outputs": [
    {
     "name": "stderr",
     "output_type": "stream",
     "text": [
      "24/04/23 11:11:14 WARN SparkStringUtils: Truncated the string representation of a plan since it was too large. This behavior can be adjusted by setting 'spark.sql.debug.maxToStringFields'.\n"
     ]
    },
    {
     "name": "stdout",
     "output_type": "stream",
     "text": [
      "+-------+-----------------+-------------------+------------------+------------------------+---------------+\n",
      "|summary|      delivery_id|  delivery_order_id|         driver_id|delivery_distance_meters|delivery_status|\n",
      "+-------+-----------------+-------------------+------------------+------------------------+---------------+\n",
      "|  count|           378843|             378843|            362957|                  378770|         378843|\n",
      "|   mean| 2634216.36283896|8.220422339218093E7| 21001.77764308169|      10721.360044354093|           NULL|\n",
      "| stddev|264655.3209144291|  6996909.141038616|15520.652243004235|       231539.1894589949|           NULL|\n",
      "|    min|          2174658|           68409030|               133|                       0|      CANCELLED|\n",
      "|    max|          3144739|           93139817|             66459|                 7251291|     DELIVERING|\n",
      "+-------+-----------------+-------------------+------------------+------------------------+---------------+\n",
      "\n",
      "None\n",
      "+-----------+-----------------+---------+------------------------+---------------+\n",
      "|delivery_id|delivery_order_id|driver_id|delivery_distance_meters|delivery_status|\n",
      "+-----------+-----------------+---------+------------------------+---------------+\n",
      "|    2174658|         68413340|     8378|                    5199|      DELIVERED|\n",
      "|    2174660|         68414309|     2473|                     410|      DELIVERED|\n",
      "|    2174661|         68416230|     7615|                    3784|      DELIVERED|\n",
      "|    2174663|         68412721|     8378|                    5714|      DELIVERED|\n",
      "|    2174675|         68414018|    10463|                    3746|      DELIVERED|\n",
      "|    2174680|         68415103|    16430|                    3924|      DELIVERED|\n",
      "|    2174693|         68416643|    14513|                    2489|      DELIVERED|\n",
      "|    2174695|         68417783|     NULL|                    2564|      CANCELLED|\n",
      "|    2174696|         68415457|     9996|                     340|      DELIVERED|\n",
      "|    2174697|         68414563|    23092|                    1081|      DELIVERED|\n",
      "|    2174699|         68415140|     9996|                    2880|      DELIVERED|\n",
      "|    2174705|         68416059|     9996|                    1450|      DELIVERED|\n",
      "|    2174707|         68417307|    25575|                    1699|      DELIVERED|\n",
      "|    2174708|         68416059|     9996|                    1450|      DELIVERED|\n",
      "|    2174712|         68415947|     9392|                    5951|      DELIVERED|\n",
      "|    2174713|         68416226|    15156|                    2353|      DELIVERED|\n",
      "|    2174715|         68417646|    29669|                    1014|      DELIVERED|\n",
      "|    2174720|         68416227|    10514|                    5796|      DELIVERED|\n",
      "|    2174724|         68416397|     7396|                    4425|      DELIVERED|\n",
      "|    2174729|         68418089|    14702|                    2007|      DELIVERED|\n",
      "+-----------+-----------------+---------+------------------------+---------------+\n",
      "only showing top 20 rows\n",
      "\n"
     ]
    }
   ],
   "source": [
    "deliveries = dfs['deliveries']\n",
    "print(deliveries.describe().show())\n",
    "deliveries.show()"
   ]
  },
  {
   "cell_type": "code",
   "execution_count": 8,
   "id": "4564243a-5508-4f39-8b25-5c6443c9a7bb",
   "metadata": {
    "collapsed": true,
    "jupyter": {
     "outputs_hidden": true
    }
   },
   "outputs": [
    {
     "name": "stderr",
     "output_type": "stream",
     "text": [
      "Java HotSpot(TM) 64-Bit Server VM warning: CodeCache is full. Compiler has been disabled.\n",
      "Java HotSpot(TM) 64-Bit Server VM warning: Try increasing the code cache size using -XX:ReservedCodeCacheSize=\n"
     ]
    },
    {
     "name": "stdout",
     "output_type": "stream",
     "text": [
      "CodeCache: size=131072Kb used=34065Kb max_used=34209Kb free=97006Kb\n",
      " bounds [0x00000001061e8000, 0x0000000108398000, 0x000000010e1e8000]\n",
      " total_blobs=12602 nmethods=11598 adapters=914\n",
      " compilation: disabled (not enough contiguous free space left)\n",
      "delivery status distinct number: 3\n",
      "\n",
      "unique values in delivery status column: 3\n",
      "\n",
      "<class 'dict'>\n",
      "number of null values in  column delivery_id: 0\n",
      "\n",
      "number of null values in  column delivery_order_id: 0\n",
      "\n",
      "number of null values in  column driver_id: 15886\n",
      "\n",
      "number of null values in  column delivery_distance_meters: 73\n",
      "\n",
      "number of null values in  column delivery_status: 0\n",
      "\n"
     ]
    }
   ],
   "source": [
    "print(f\"delivery status distinct number: {deliveries.select('delivery_status').distinct().count()}\\n\")\n",
    "\n",
    "### unique values occurance \n",
    "grouped_data = deliveries.groupBy('delivery_status').agg(F.count('*').alias('count'))\n",
    "print(f\"unique values in delivery status column: {grouped_data.count()}\\n\")\n",
    "\n",
    "### total null values number in each column\n",
    "tot_nan_vals = deliveries.select(*(F.sum(F.col(c).isNull().cast(\"int\")).alias(c) for c in deliveries.columns)).collect()[0].asDict()\n",
    "print(type(tot_nan_vals))\n",
    "for key, val in tot_nan_vals.items():\n",
    "   print(f\"number of null values in  column {key}: {val}\\n\")\n"
   ]
  },
  {
   "cell_type": "code",
   "execution_count": 10,
   "id": "57c69ef9-9c78-4d1d-a1a7-fd6d0949a772",
   "metadata": {},
   "outputs": [
    {
     "name": "stdout",
     "output_type": "stream",
     "text": [
      "+-------+----------------+---------------+---------+---------+-----------------+-----------------+\n",
      "|summary|          hub_id|       hub_name| hub_city|hub_state|     hub_latitude|    hub_longitude|\n",
      "+-------+----------------+---------------+---------+---------+-----------------+-----------------+\n",
      "|  count|              32|             32|       32|       32|               32|               32|\n",
      "|   mean|        34.40625|           NULL|     NULL|     NULL|-24.4207382740625|   -46.5114598125|\n",
      "| stddev|24.9035032838043|           NULL|     NULL|     NULL|2.289950688834545|2.668164650441109|\n",
      "|    min|               2|AVENUE SHOPPING| CURITIBA|       PR|       -30.085743|       -51.245997|\n",
      "|    max|              91|  WOLF SHOPPING|S�O PAULO|       SP|      -22.8858199|      -43.1821807|\n",
      "+-------+----------------+---------------+---------+---------+-----------------+-----------------+\n",
      "\n",
      "None\n",
      "+------+----------------+--------------+---------+------------+-------------+\n",
      "|hub_id|        hub_name|      hub_city|hub_state|hub_latitude|hub_longitude|\n",
      "+------+----------------+--------------+---------+------------+-------------+\n",
      "|     2|   BLUE SHOPPING|  PORTO ALEGRE|       RS| -30.0474148|    -51.21351|\n",
      "|     3|  GREEN SHOPPING|  PORTO ALEGRE|       RS| -30.0374149|    -51.20352|\n",
      "|     4|    RED SHOPPING|  PORTO ALEGRE|       RS| -30.0219481|  -51.2083816|\n",
      "|     5|   FUNK SHOPPING|RIO DE JANEIRO|       RJ| -23.0007498|   -43.318282|\n",
      "|     8| GOLDEN SHOPPING|RIO DE JANEIRO|       RJ|  -22.921475|   -43.234774|\n",
      "|    13|HIP HOP SHOPPING|RIO DE JANEIRO|       RJ| -22.8858199|  -43.2792183|\n",
      "|    16| PEOPLE SHOPPING|RIO DE JANEIRO|       RJ| -23.0174723|  -43.4799389|\n",
      "|    17|  SMALL SHOPPING|     S�O PAULO|       SP| -23.5920041|  -46.6365035|\n",
      "|    18|   STAR SHOPPING|RIO DE JANEIRO|       RJ| -22.9454948|  -43.1821807|\n",
      "|    20| PURPLE SHOPPING|RIO DE JANEIRO|       RJ|  -22.996848|   -43.359636|\n",
      "|    21|   WOLF SHOPPING|     S�O PAULO|       SP|  -23.550407|  -46.6973162|\n",
      "|    22|  COLOR SHOPPING|RIO DE JANEIRO|       RJ| -23.0007532|  -43.3837713|\n",
      "|    25| AVENUE SHOPPING|     S�O PAULO|       SP| -23.5677027|   -46.642043|\n",
      "|    26|    SQL SHOPPING|     S�O PAULO|       SP| -23.5630195|   -46.652621|\n",
      "|    27|  SAMPA SHOPPING|     S�O PAULO|       SP|  -23.622995|   -46.699204|\n",
      "|    28|    RAP SHOPPING|     S�O PAULO|       SP|  -23.595001|   -46.685984|\n",
      "|    29| SUBWAY SHOPPING|     S�O PAULO|       SP|  -23.561053|   -46.558976|\n",
      "|    31| PAGODE SHOPPING|     S�O PAULO|       SP|  -23.629826|   -46.735203|\n",
      "|    33| COFFEE SHOPPING|     S�O PAULO|       SP|  -23.579067|    -46.59282|\n",
      "|    35|  BEACH SHOPPING|RIO DE JANEIRO|       RJ|   -22.96988|   -43.370811|\n",
      "|    36|  BLACK SHOPPING|  PORTO ALEGRE|       RS|  -30.085743|   -51.245997|\n",
      "|    37|  RIVER SHOPPING|     S�O PAULO|       SP|  -23.507105|   -46.718197|\n",
      "|    42|    PHP SHOPPING|      CURITIBA|       PR| -25.4381052|   -49.266532|\n",
      "|    43|HOTMILK SHOPPING|      CURITIBA|       PR| -25.4412212|    -49.27769|\n",
      "|    44|FORTRAN SHOPPING|      CURITIBA|       PR| -25.4351398|  -49.3167883|\n",
      "|    51|   RUBY SHOPPING|RIO DE JANEIRO|       RJ|  -22.923675|  -43.5677575|\n",
      "|    55| ELIXIR SHOPPING|     S�O PAULO|       SP| -23.5217758|  -46.6241516|\n",
      "|    73|HUBLESS SHOPPING|     S�O PAULO|       SP|  -22.947461|  -43.1834672|\n",
      "|    75| PYTHON SHOPPING|      CURITIBA|       PR|  -25.477073|    -49.28966|\n",
      "|    85|  REACT SHOPPING|     S�O PAULO|       SP| -23.5133533|  -46.6183535|\n",
      "|    86|      R SHOPPING|     S�O PAULO|       SP|-23.54150197|  -46.5766182|\n",
      "|    91|  GAROA SHOPPING|     S�O PAULO|       SP| -23.5251244|  -46.5468072|\n",
      "+------+----------------+--------------+---------+------------+-------------+\n",
      "\n"
     ]
    }
   ],
   "source": [
    "hubs = dfs['hubs']\n",
    "print(hubs.describe().show())\n",
    "hubs.show(32)"
   ]
  },
  {
   "cell_type": "code",
   "execution_count": 11,
   "id": "e9718da7-9fde-4df0-9685-d791b7bafd3b",
   "metadata": {
    "collapsed": true,
    "jupyter": {
     "outputs_hidden": true
    },
    "scrolled": true
   },
   "outputs": [
    {
     "name": "stdout",
     "output_type": "stream",
     "text": [
      "+-------+------------------+------------+-----------------+\n",
      "|summary|         driver_id|driver_modal|      driver_type|\n",
      "+-------+------------------+------------+-----------------+\n",
      "|  count|              4824|        4824|             4824|\n",
      "|   mean|29681.790008291875|        NULL|             NULL|\n",
      "| stddev| 18391.79806919864|        NULL|             NULL|\n",
      "|    min|               133|       BIKER|        FREELANCE|\n",
      "|    max|             66494|     MOTOBOY|LOGISTIC OPERATOR|\n",
      "+-------+------------------+------------+-----------------+\n",
      "\n",
      "None\n",
      "+---------+------------+-----------------+\n",
      "|driver_id|driver_modal|      driver_type|\n",
      "+---------+------------+-----------------+\n",
      "|      133|     MOTOBOY|LOGISTIC OPERATOR|\n",
      "|      138|     MOTOBOY|        FREELANCE|\n",
      "|      140|     MOTOBOY|        FREELANCE|\n",
      "|      143|       BIKER|        FREELANCE|\n",
      "|      148|     MOTOBOY|        FREELANCE|\n",
      "|      165|     MOTOBOY|        FREELANCE|\n",
      "|      172|     MOTOBOY|        FREELANCE|\n",
      "|      174|       BIKER|        FREELANCE|\n",
      "|      187|       BIKER|        FREELANCE|\n",
      "|      196|       BIKER|        FREELANCE|\n",
      "|      202|       BIKER|        FREELANCE|\n",
      "|      210|     MOTOBOY|        FREELANCE|\n",
      "|      217|     MOTOBOY|LOGISTIC OPERATOR|\n",
      "|      223|     MOTOBOY|        FREELANCE|\n",
      "|      224|       BIKER|        FREELANCE|\n",
      "|      225|     MOTOBOY|LOGISTIC OPERATOR|\n",
      "|      228|     MOTOBOY|        FREELANCE|\n",
      "|      231|     MOTOBOY|LOGISTIC OPERATOR|\n",
      "|      243|     MOTOBOY|LOGISTIC OPERATOR|\n",
      "|      245|     MOTOBOY|        FREELANCE|\n",
      "+---------+------------+-----------------+\n",
      "only showing top 20 rows\n",
      "\n"
     ]
    }
   ],
   "source": [
    "drivers = dfs['drivers']\n",
    "print(drivers.describe().show())\n",
    "drivers.show()"
   ]
  },
  {
   "cell_type": "code",
   "execution_count": 12,
   "id": "949b3372-3ff2-42ea-8855-ecbbe0d918b5",
   "metadata": {},
   "outputs": [
    {
     "name": "stdout",
     "output_type": "stream",
     "text": [
      "unique values in driver modal column: 2\n"
     ]
    }
   ],
   "source": [
    "d_modal_vls = drivers.select('driver_modal').distinct().count()\n",
    "print(f\"unique values in driver modal column: {d_modal_vls}\")"
   ]
  },
  {
   "cell_type": "code",
   "execution_count": 17,
   "id": "05ad5d17-3fb0-42c0-a5ea-7768768ab433",
   "metadata": {},
   "outputs": [
    {
     "name": "stdout",
     "output_type": "stream",
     "text": [
      "29\n",
      "['order_id', 'store_id', 'channel_id', 'payment_order_id', 'delivery_order_id', 'order_status', 'order_amount', 'order_delivery_fee', 'order_delivery_cost', 'order_created_hour', 'order_created_minute', 'order_created_day', 'order_created_month', 'order_created_year', 'order_moment_created', 'order_moment_accepted', 'order_moment_ready', 'order_moment_collected', 'order_moment_in_expedition', 'order_moment_delivering', 'order_moment_delivered', 'order_moment_finished', 'order_metric_collected_time', 'order_metric_paused_time', 'order_metric_production_time', 'order_metric_walking_time', 'order_metric_expediton_speed_time', 'order_metric_transit_time', 'order_metric_cycle_time']\n"
     ]
    }
   ],
   "source": [
    "orders = dfs['orders']\n",
    "#print(orders.describe().show())\n",
    "print(len(orders.columns))\n",
    "print(orders.columns)"
   ]
  },
  {
   "cell_type": "code",
   "execution_count": 19,
   "id": "6f3d6f63-2e2c-4ffb-ad12-7f70e9d7860f",
   "metadata": {},
   "outputs": [
    {
     "name": "stdout",
     "output_type": "stream",
     "text": [
      "+-------+--------------+\n",
      "|summary|payment_status|\n",
      "+-------+--------------+\n",
      "|  count|        400834|\n",
      "|   mean|          NULL|\n",
      "| stddev|          NULL|\n",
      "|    min|      AWAITING|\n",
      "|    max|          PAID|\n",
      "+-------+--------------+\n",
      "\n",
      "None\n",
      "+----------+----------------+--------------+-----------+--------------+--------------+\n",
      "|payment_id|payment_order_id|payment_amount|payment_fee|payment_method|payment_status|\n",
      "+----------+----------------+--------------+-----------+--------------+--------------+\n",
      "|   4427917|        68410055|        118.44|        0.0|       VOUCHER|          PAID|\n",
      "|   4427918|        68410055|        394.81|        7.9|        ONLINE|          PAID|\n",
      "|   4427941|        68412721|        206.95|       5.59|        ONLINE|          PAID|\n",
      "|   4427948|        68413340|          58.8|       1.59|        ONLINE|          PAID|\n",
      "|   4427955|        68414018|          45.8|       0.92|        ONLINE|          PAID|\n",
      "|   4427956|        68414309|         106.8|       2.88|        ONLINE|          PAID|\n",
      "|   4427961|        68414512|          57.8|       1.56|        ONLINE|          PAID|\n",
      "|   4427963|        68414563|          26.9|        0.4|        ONLINE|          PAID|\n",
      "|   4427975|        68415103|         115.5|       3.12|        ONLINE|          PAID|\n",
      "|   4427976|        68415140|         199.3|       5.38|        ONLINE|          PAID|\n",
      "|   4427980|        68415344|          95.3|       2.57|        ONLINE|          PAID|\n",
      "|   4427983|        68415457|         148.7|       4.01|        ONLINE|          PAID|\n",
      "|   4427988|        68415474|         170.2|        4.6|        ONLINE|          PAID|\n",
      "|   4427989|        68415543|          19.9|        0.3|        ONLINE|          PAID|\n",
      "|   4427990|        68415543|           5.0|        0.0|       VOUCHER|          PAID|\n",
      "|   4427997|        68415947|          25.9|       0.52|        ONLINE|          PAID|\n",
      "|   4427999|        68416059|         175.2|       4.73|        ONLINE|          PAID|\n",
      "|   4428001|        68416226|          31.4|       0.63|        ONLINE|          PAID|\n",
      "|   4428002|        68416227|          25.9|       0.52|        ONLINE|          PAID|\n",
      "|   4428003|        68416230|         46.79|        0.7|        ONLINE|          PAID|\n",
      "+----------+----------------+--------------+-----------+--------------+--------------+\n",
      "only showing top 20 rows\n",
      "\n"
     ]
    }
   ],
   "source": [
    "payments = dfs['payments']\n",
    "print(payments.describe().show())\n",
    "payments.show()"
   ]
  },
  {
   "cell_type": "code",
   "execution_count": 25,
   "id": "5d942006-1d8d-4452-95c8-642db5257cce",
   "metadata": {},
   "outputs": [
    {
     "name": "stdout",
     "output_type": "stream",
     "text": [
      "3\n",
      "number of null values in CHARGEBACK column: 0\n",
      "number of null values in PAID column: 0\n",
      "number of null values in AWAITING column: 0\n"
     ]
    }
   ],
   "source": [
    "status_un = payments.select('payment_status').distinct().count()\n",
    "print(status_un)\n",
    "vls_occ = payments.groupBy('payment_status').agg(F.sum(F.col('payment_status').isNull().cast(\"int\")).alias('null_vls')).collect()\n",
    "for row in vls_occ:\n",
    "    print(f\"number of null values in {row['payment_status']} column: {row['null_vls']}\")"
   ]
  },
  {
   "cell_type": "code",
   "execution_count": 26,
   "id": "9e0e2a20-5d0f-4d5e-ba7c-dbd586713e40",
   "metadata": {},
   "outputs": [
    {
     "name": "stdout",
     "output_type": "stream",
     "text": [
      "+-------+------------------+------------------+--------------+-------------+-----------------+------------------+------------------+\n",
      "|summary|          store_id|            hub_id|    store_name|store_segment| store_plan_price|    store_latitude|   store_longitude|\n",
      "+-------+------------------+------------------+--------------+-------------+-----------------+------------------+------------------+\n",
      "|  count|               951|               951|           951|          951|              836|               935|               935|\n",
      "|   mean|2080.5552050473184| 30.37539432176656|          NULL|         NULL| 34.8165311004786|-23.88641021835297|-46.04286869650257|\n",
      "| stddev|1338.5905906279252|18.961983691118437|          NULL|         NULL|14.30408567487769|1.5583846446157017|2.2980003371948903|\n",
      "|    min|                 3|                 2|ACA PRISSURAU |         FOOD|              0.0|        -30.085743|        -51.245997|\n",
      "|    max|              4679|                91|�RPIR PILMACI |         GOOD|             49.9|       -19.8753564|        -43.176536|\n",
      "+-------+------------------+------------------+--------------+-------------+-----------------+------------------+------------------+\n",
      "\n",
      "None\n",
      "+--------+------+--------------------+-------------+----------------+--------------+---------------+\n",
      "|store_id|hub_id|          store_name|store_segment|store_plan_price|store_latitude|store_longitude|\n",
      "+--------+------+--------------------+-------------+----------------+--------------+---------------+\n",
      "|       3|     2|             CUMIURI|         FOOD|             0.0|          NULL|           NULL|\n",
      "|       6|     3|   PIMGUCIS DA VIVA |         FOOD|             0.0|   -30.0374149|      -51.20352|\n",
      "|       8|     3|           RASMUR S |         FOOD|             0.0|   -30.0374149|      -51.20352|\n",
      "|      53|     8|         PAPA SUCIS |         FOOD|             0.0|    -22.921475|     -43.234822|\n",
      "|      54|     8|       VUZPI PAZZIS |         FOOD|             0.0|    -22.921475|     -43.234822|\n",
      "|      56|     8|             SUPSIO |         FOOD|            49.0|    -22.921475|     -43.234822|\n",
      "|      58|     8|          PIAMUARIS |         FOOD|            49.0|    -22.921475|     -43.234822|\n",
      "|      82|     8|             LUCITA |         FOOD|             0.0|    -22.921475|     -43.234822|\n",
      "|      83|     8|          PRARIZZAI |         FOOD|             0.0|    -22.921475|     -43.234822|\n",
      "|      84|     8|     PALLO MZU GRALA|         FOOD|            49.0|    -22.921475|     -43.234822|\n",
      "|      85|     8|         PRISMAURAI |         FOOD|             0.0|    -22.921475|     -43.234822|\n",
      "|      88|     8|            EUGUSMI |         GOOD|             0.0|    -22.921475|     -43.234822|\n",
      "|      89|     8|      LIS URPIMIOUS |         FOOD|            49.0|    -22.921475|     -43.234822|\n",
      "|      90|     8|CISI DA POI EU QU...|         FOOD|            49.0|    -22.921475|     -43.234822|\n",
      "|      95|     8|         ARE TRAMUO |         FOOD|            49.0|    -22.921475|     -43.234822|\n",
      "|      96|     5|     PIRMI DA SIPIR |         FOOD|             0.0|   -23.0007498|     -43.318364|\n",
      "|      99|     8|     SIRVUMU AMILAI |         FOOD|             0.0|    -22.921475|     -43.234822|\n",
      "|     100|     8|           LUPIMUIM |         FOOD|            49.9|    -22.921475|     -43.234822|\n",
      "|     122|     4|             MASUCIE|         GOOD|             0.0|          NULL|           NULL|\n",
      "|     141|     8|        RO PRISMAUS |         FOOD|             0.0|    -22.921475|     -43.234822|\n",
      "+--------+------+--------------------+-------------+----------------+--------------+---------------+\n",
      "only showing top 20 rows\n",
      "\n"
     ]
    }
   ],
   "source": [
    "stores = dfs['stores']\n",
    "print(stores.describe().show())\n",
    "stores.show()"
   ]
  },
  {
   "cell_type": "code",
   "execution_count": 28,
   "id": "9e403da1-adb3-4ac6-a55b-f614ff7ad0f2",
   "metadata": {},
   "outputs": [
    {
     "name": "stdout",
     "output_type": "stream",
     "text": [
      "[Row(store_segment='FOOD', shops_num=None), Row(store_segment='GOOD', shops_num=None)]\n"
     ]
    }
   ],
   "source": [
    "shops = stores.groupBy('store_segment').agg(F.count(\n",
    "print(shops)"
   ]
  },
  {
   "cell_type": "code",
   "execution_count": 10,
   "id": "db73690a-8fa3-4ef7-9895-f079e2077e85",
   "metadata": {
    "collapsed": true,
    "jupyter": {
     "outputs_hidden": true
    }
   },
   "outputs": [
    {
     "ename": "ConnectionRefusedError",
     "evalue": "[Errno 61] Connection refused",
     "output_type": "error",
     "traceback": [
      "\u001b[0;31m---------------------------------------------------------------------------\u001b[0m",
      "\u001b[0;31mConnectionRefusedError\u001b[0m                    Traceback (most recent call last)",
      "Cell \u001b[0;32mIn[10], line 1\u001b[0m\n\u001b[0;32m----> 1\u001b[0m \u001b[43mspark\u001b[49m\u001b[38;5;241;43m.\u001b[39;49m\u001b[43mstop\u001b[49m\u001b[43m(\u001b[49m\u001b[43m)\u001b[49m\n",
      "File \u001b[0;32m~/Documents/Python/bd1/venv/lib/python3.12/site-packages/pyspark/sql/session.py:1796\u001b[0m, in \u001b[0;36mSparkSession.stop\u001b[0;34m(self)\u001b[0m\n\u001b[1;32m   1782\u001b[0m \u001b[38;5;250m\u001b[39m\u001b[38;5;124;03m\"\"\"\u001b[39;00m\n\u001b[1;32m   1783\u001b[0m \u001b[38;5;124;03mStop the underlying :class:`SparkContext`.\u001b[39;00m\n\u001b[1;32m   1784\u001b[0m \n\u001b[0;32m   (...)\u001b[0m\n\u001b[1;32m   1792\u001b[0m \u001b[38;5;124;03m>>> spark.stop()  # doctest: +SKIP\u001b[39;00m\n\u001b[1;32m   1793\u001b[0m \u001b[38;5;124;03m\"\"\"\u001b[39;00m\n\u001b[1;32m   1794\u001b[0m \u001b[38;5;28;01mfrom\u001b[39;00m \u001b[38;5;21;01mpyspark\u001b[39;00m\u001b[38;5;21;01m.\u001b[39;00m\u001b[38;5;21;01msql\u001b[39;00m\u001b[38;5;21;01m.\u001b[39;00m\u001b[38;5;21;01mcontext\u001b[39;00m \u001b[38;5;28;01mimport\u001b[39;00m SQLContext\n\u001b[0;32m-> 1796\u001b[0m \u001b[38;5;28;43mself\u001b[39;49m\u001b[38;5;241;43m.\u001b[39;49m\u001b[43m_sc\u001b[49m\u001b[38;5;241;43m.\u001b[39;49m\u001b[43mstop\u001b[49m\u001b[43m(\u001b[49m\u001b[43m)\u001b[49m\n\u001b[1;32m   1797\u001b[0m \u001b[38;5;66;03m# We should clean the default session up. See SPARK-23228.\u001b[39;00m\n\u001b[1;32m   1798\u001b[0m \u001b[38;5;28;01massert\u001b[39;00m \u001b[38;5;28mself\u001b[39m\u001b[38;5;241m.\u001b[39m_jvm \u001b[38;5;129;01mis\u001b[39;00m \u001b[38;5;129;01mnot\u001b[39;00m \u001b[38;5;28;01mNone\u001b[39;00m\n",
      "File \u001b[0;32m~/Documents/Python/bd1/venv/lib/python3.12/site-packages/pyspark/context.py:654\u001b[0m, in \u001b[0;36mSparkContext.stop\u001b[0;34m(self)\u001b[0m\n\u001b[1;32m    652\u001b[0m \u001b[38;5;28;01mif\u001b[39;00m \u001b[38;5;28mgetattr\u001b[39m(\u001b[38;5;28mself\u001b[39m, \u001b[38;5;124m\"\u001b[39m\u001b[38;5;124m_jsc\u001b[39m\u001b[38;5;124m\"\u001b[39m, \u001b[38;5;28;01mNone\u001b[39;00m):\n\u001b[1;32m    653\u001b[0m     \u001b[38;5;28;01mtry\u001b[39;00m:\n\u001b[0;32m--> 654\u001b[0m         \u001b[38;5;28;43mself\u001b[39;49m\u001b[38;5;241;43m.\u001b[39;49m\u001b[43m_jsc\u001b[49m\u001b[38;5;241;43m.\u001b[39;49m\u001b[43mstop\u001b[49m\u001b[43m(\u001b[49m\u001b[43m)\u001b[49m\n\u001b[1;32m    655\u001b[0m     \u001b[38;5;28;01mexcept\u001b[39;00m Py4JError:\n\u001b[1;32m    656\u001b[0m         \u001b[38;5;66;03m# Case: SPARK-18523\u001b[39;00m\n\u001b[1;32m    657\u001b[0m         warnings\u001b[38;5;241m.\u001b[39mwarn(\n\u001b[1;32m    658\u001b[0m             \u001b[38;5;124m\"\u001b[39m\u001b[38;5;124mUnable to cleanly shutdown Spark JVM process.\u001b[39m\u001b[38;5;124m\"\u001b[39m\n\u001b[1;32m    659\u001b[0m             \u001b[38;5;124m\"\u001b[39m\u001b[38;5;124m It is possible that the process has crashed,\u001b[39m\u001b[38;5;124m\"\u001b[39m\n\u001b[1;32m    660\u001b[0m             \u001b[38;5;124m\"\u001b[39m\u001b[38;5;124m been killed or may also be in a zombie state.\u001b[39m\u001b[38;5;124m\"\u001b[39m,\n\u001b[1;32m    661\u001b[0m             \u001b[38;5;167;01mRuntimeWarning\u001b[39;00m,\n\u001b[1;32m    662\u001b[0m         )\n",
      "File \u001b[0;32m~/Documents/Python/bd1/venv/lib/python3.12/site-packages/py4j/java_gateway.py:1321\u001b[0m, in \u001b[0;36mJavaMember.__call__\u001b[0;34m(self, *args)\u001b[0m\n\u001b[1;32m   1314\u001b[0m args_command, temp_args \u001b[38;5;241m=\u001b[39m \u001b[38;5;28mself\u001b[39m\u001b[38;5;241m.\u001b[39m_build_args(\u001b[38;5;241m*\u001b[39margs)\n\u001b[1;32m   1316\u001b[0m command \u001b[38;5;241m=\u001b[39m proto\u001b[38;5;241m.\u001b[39mCALL_COMMAND_NAME \u001b[38;5;241m+\u001b[39m\\\n\u001b[1;32m   1317\u001b[0m     \u001b[38;5;28mself\u001b[39m\u001b[38;5;241m.\u001b[39mcommand_header \u001b[38;5;241m+\u001b[39m\\\n\u001b[1;32m   1318\u001b[0m     args_command \u001b[38;5;241m+\u001b[39m\\\n\u001b[1;32m   1319\u001b[0m     proto\u001b[38;5;241m.\u001b[39mEND_COMMAND_PART\n\u001b[0;32m-> 1321\u001b[0m answer \u001b[38;5;241m=\u001b[39m \u001b[38;5;28;43mself\u001b[39;49m\u001b[38;5;241;43m.\u001b[39;49m\u001b[43mgateway_client\u001b[49m\u001b[38;5;241;43m.\u001b[39;49m\u001b[43msend_command\u001b[49m\u001b[43m(\u001b[49m\u001b[43mcommand\u001b[49m\u001b[43m)\u001b[49m\n\u001b[1;32m   1322\u001b[0m return_value \u001b[38;5;241m=\u001b[39m get_return_value(\n\u001b[1;32m   1323\u001b[0m     answer, \u001b[38;5;28mself\u001b[39m\u001b[38;5;241m.\u001b[39mgateway_client, \u001b[38;5;28mself\u001b[39m\u001b[38;5;241m.\u001b[39mtarget_id, \u001b[38;5;28mself\u001b[39m\u001b[38;5;241m.\u001b[39mname)\n\u001b[1;32m   1325\u001b[0m \u001b[38;5;28;01mfor\u001b[39;00m temp_arg \u001b[38;5;129;01min\u001b[39;00m temp_args:\n",
      "File \u001b[0;32m~/Documents/Python/bd1/venv/lib/python3.12/site-packages/py4j/java_gateway.py:1036\u001b[0m, in \u001b[0;36mGatewayClient.send_command\u001b[0;34m(self, command, retry, binary)\u001b[0m\n\u001b[1;32m   1015\u001b[0m \u001b[38;5;28;01mdef\u001b[39;00m \u001b[38;5;21msend_command\u001b[39m(\u001b[38;5;28mself\u001b[39m, command, retry\u001b[38;5;241m=\u001b[39m\u001b[38;5;28;01mTrue\u001b[39;00m, binary\u001b[38;5;241m=\u001b[39m\u001b[38;5;28;01mFalse\u001b[39;00m):\n\u001b[1;32m   1016\u001b[0m \u001b[38;5;250m    \u001b[39m\u001b[38;5;124;03m\"\"\"Sends a command to the JVM. This method is not intended to be\u001b[39;00m\n\u001b[1;32m   1017\u001b[0m \u001b[38;5;124;03m       called directly by Py4J users. It is usually called by\u001b[39;00m\n\u001b[1;32m   1018\u001b[0m \u001b[38;5;124;03m       :class:`JavaMember` instances.\u001b[39;00m\n\u001b[0;32m   (...)\u001b[0m\n\u001b[1;32m   1034\u001b[0m \u001b[38;5;124;03m     if `binary` is `True`.\u001b[39;00m\n\u001b[1;32m   1035\u001b[0m \u001b[38;5;124;03m    \"\"\"\u001b[39;00m\n\u001b[0;32m-> 1036\u001b[0m     connection \u001b[38;5;241m=\u001b[39m \u001b[38;5;28;43mself\u001b[39;49m\u001b[38;5;241;43m.\u001b[39;49m\u001b[43m_get_connection\u001b[49m\u001b[43m(\u001b[49m\u001b[43m)\u001b[49m\n\u001b[1;32m   1037\u001b[0m     \u001b[38;5;28;01mtry\u001b[39;00m:\n\u001b[1;32m   1038\u001b[0m         response \u001b[38;5;241m=\u001b[39m connection\u001b[38;5;241m.\u001b[39msend_command(command)\n",
      "File \u001b[0;32m~/Documents/Python/bd1/venv/lib/python3.12/site-packages/py4j/clientserver.py:284\u001b[0m, in \u001b[0;36mJavaClient._get_connection\u001b[0;34m(self)\u001b[0m\n\u001b[1;32m    281\u001b[0m     \u001b[38;5;28;01mpass\u001b[39;00m\n\u001b[1;32m    283\u001b[0m \u001b[38;5;28;01mif\u001b[39;00m connection \u001b[38;5;129;01mis\u001b[39;00m \u001b[38;5;28;01mNone\u001b[39;00m \u001b[38;5;129;01mor\u001b[39;00m connection\u001b[38;5;241m.\u001b[39msocket \u001b[38;5;129;01mis\u001b[39;00m \u001b[38;5;28;01mNone\u001b[39;00m:\n\u001b[0;32m--> 284\u001b[0m     connection \u001b[38;5;241m=\u001b[39m \u001b[38;5;28;43mself\u001b[39;49m\u001b[38;5;241;43m.\u001b[39;49m\u001b[43m_create_new_connection\u001b[49m\u001b[43m(\u001b[49m\u001b[43m)\u001b[49m\n\u001b[1;32m    285\u001b[0m \u001b[38;5;28;01mreturn\u001b[39;00m connection\n",
      "File \u001b[0;32m~/Documents/Python/bd1/venv/lib/python3.12/site-packages/py4j/clientserver.py:291\u001b[0m, in \u001b[0;36mJavaClient._create_new_connection\u001b[0;34m(self)\u001b[0m\n\u001b[1;32m    287\u001b[0m \u001b[38;5;28;01mdef\u001b[39;00m \u001b[38;5;21m_create_new_connection\u001b[39m(\u001b[38;5;28mself\u001b[39m):\n\u001b[1;32m    288\u001b[0m     connection \u001b[38;5;241m=\u001b[39m ClientServerConnection(\n\u001b[1;32m    289\u001b[0m         \u001b[38;5;28mself\u001b[39m\u001b[38;5;241m.\u001b[39mjava_parameters, \u001b[38;5;28mself\u001b[39m\u001b[38;5;241m.\u001b[39mpython_parameters,\n\u001b[1;32m    290\u001b[0m         \u001b[38;5;28mself\u001b[39m\u001b[38;5;241m.\u001b[39mgateway_property, \u001b[38;5;28mself\u001b[39m)\n\u001b[0;32m--> 291\u001b[0m     \u001b[43mconnection\u001b[49m\u001b[38;5;241;43m.\u001b[39;49m\u001b[43mconnect_to_java_server\u001b[49m\u001b[43m(\u001b[49m\u001b[43m)\u001b[49m\n\u001b[1;32m    292\u001b[0m     \u001b[38;5;28mself\u001b[39m\u001b[38;5;241m.\u001b[39mset_thread_connection(connection)\n\u001b[1;32m    293\u001b[0m     \u001b[38;5;28;01mreturn\u001b[39;00m connection\n",
      "File \u001b[0;32m~/Documents/Python/bd1/venv/lib/python3.12/site-packages/py4j/clientserver.py:438\u001b[0m, in \u001b[0;36mClientServerConnection.connect_to_java_server\u001b[0;34m(self)\u001b[0m\n\u001b[1;32m    435\u001b[0m \u001b[38;5;28;01mif\u001b[39;00m \u001b[38;5;28mself\u001b[39m\u001b[38;5;241m.\u001b[39mssl_context:\n\u001b[1;32m    436\u001b[0m     \u001b[38;5;28mself\u001b[39m\u001b[38;5;241m.\u001b[39msocket \u001b[38;5;241m=\u001b[39m \u001b[38;5;28mself\u001b[39m\u001b[38;5;241m.\u001b[39mssl_context\u001b[38;5;241m.\u001b[39mwrap_socket(\n\u001b[1;32m    437\u001b[0m         \u001b[38;5;28mself\u001b[39m\u001b[38;5;241m.\u001b[39msocket, server_hostname\u001b[38;5;241m=\u001b[39m\u001b[38;5;28mself\u001b[39m\u001b[38;5;241m.\u001b[39mjava_address)\n\u001b[0;32m--> 438\u001b[0m \u001b[38;5;28;43mself\u001b[39;49m\u001b[38;5;241;43m.\u001b[39;49m\u001b[43msocket\u001b[49m\u001b[38;5;241;43m.\u001b[39;49m\u001b[43mconnect\u001b[49m\u001b[43m(\u001b[49m\u001b[43m(\u001b[49m\u001b[38;5;28;43mself\u001b[39;49m\u001b[38;5;241;43m.\u001b[39;49m\u001b[43mjava_address\u001b[49m\u001b[43m,\u001b[49m\u001b[43m \u001b[49m\u001b[38;5;28;43mself\u001b[39;49m\u001b[38;5;241;43m.\u001b[39;49m\u001b[43mjava_port\u001b[49m\u001b[43m)\u001b[49m\u001b[43m)\u001b[49m\n\u001b[1;32m    439\u001b[0m \u001b[38;5;28mself\u001b[39m\u001b[38;5;241m.\u001b[39mstream \u001b[38;5;241m=\u001b[39m \u001b[38;5;28mself\u001b[39m\u001b[38;5;241m.\u001b[39msocket\u001b[38;5;241m.\u001b[39mmakefile(\u001b[38;5;124m\"\u001b[39m\u001b[38;5;124mrb\u001b[39m\u001b[38;5;124m\"\u001b[39m)\n\u001b[1;32m    440\u001b[0m \u001b[38;5;28mself\u001b[39m\u001b[38;5;241m.\u001b[39mis_connected \u001b[38;5;241m=\u001b[39m \u001b[38;5;28;01mTrue\u001b[39;00m\n",
      "\u001b[0;31mConnectionRefusedError\u001b[0m: [Errno 61] Connection refused"
     ]
    }
   ],
   "source": [
    "spark.stop()"
   ]
  }
 ],
 "metadata": {
  "kernelspec": {
   "display_name": "Python 3 (ipykernel)",
   "language": "python",
   "name": "python3"
  },
  "language_info": {
   "codemirror_mode": {
    "name": "ipython",
    "version": 3
   },
   "file_extension": ".py",
   "mimetype": "text/x-python",
   "name": "python",
   "nbconvert_exporter": "python",
   "pygments_lexer": "ipython3",
   "version": "3.12.1"
  }
 },
 "nbformat": 4,
 "nbformat_minor": 5
}
