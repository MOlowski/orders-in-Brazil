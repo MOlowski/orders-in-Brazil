{
 "cells": [
  {
   "cell_type": "markdown",
   "id": "caeb8d6e-2c2f-451b-bca8-b67d58c05527",
   "metadata": {},
   "source": [
    "### Description of datasets\n",
    "\n",
    "channels: This dataset contains information about the sales channels (marketplaces) where our store owners sell their goods and food.\n",
    "\n",
    "deliveries: This dataset contains information about the deliveries made by our partner delivery drivers.\n",
    "\n",
    "drivers: This dataset contains information about the partner delivery drivers. They are stationed at our hubs, and every time an order is processed, they make the deliveries to the consumers' homes.\n",
    "\n",
    "hubs: This dataset contains information about the Delivery Center hubs. Hubs are the distribution centers for \n",
    "orders, and deliveries originate from there.\n",
    "\n",
    "orders: This dataset contains information about the sales processed through the Delivery Center platform.\n",
    "\n",
    "payments: This dataset contains information about the payments made to the Delivery Center.\n",
    "\n",
    "stores: This dataset contains information about the store owners. They use the Delivery Center platform to sell their items (goods and/or food) on the marketplaces.### "
   ]
  },
  {
   "cell_type": "code",
   "execution_count": 3,
   "id": "ec92090b-afba-4f66-8804-202c9fa1f28a",
   "metadata": {},
   "outputs": [
    {
     "name": "stdout",
     "output_type": "stream",
     "text": [
      "Collecting pyspark\n",
      "  Using cached pyspark-3.5.1-py2.py3-none-any.whl\n",
      "Collecting py4j==0.10.9.7 (from pyspark)\n",
      "  Obtaining dependency information for py4j==0.10.9.7 from https://files.pythonhosted.org/packages/10/30/a58b32568f1623aaad7db22aa9eafc4c6c194b429ff35bdc55ca2726da47/py4j-0.10.9.7-py2.py3-none-any.whl.metadata\n",
      "  Using cached py4j-0.10.9.7-py2.py3-none-any.whl.metadata (1.5 kB)\n",
      "Using cached py4j-0.10.9.7-py2.py3-none-any.whl (200 kB)\n",
      "Installing collected packages: py4j, pyspark\n",
      "Successfully installed py4j-0.10.9.7 pyspark-3.5.1\n",
      "\n",
      "\u001b[1m[\u001b[0m\u001b[34;49mnotice\u001b[0m\u001b[1;39;49m]\u001b[0m\u001b[39;49m A new release of pip is available: \u001b[0m\u001b[31;49m23.2.1\u001b[0m\u001b[39;49m -> \u001b[0m\u001b[32;49m24.0\u001b[0m\n",
      "\u001b[1m[\u001b[0m\u001b[34;49mnotice\u001b[0m\u001b[1;39;49m]\u001b[0m\u001b[39;49m To update, run: \u001b[0m\u001b[32;49mpip install --upgrade pip\u001b[0m\n",
      "Note: you may need to restart the kernel to use updated packages.\n"
     ]
    }
   ],
   "source": [
    "pip install pyspark"
   ]
  },
  {
   "cell_type": "code",
   "execution_count": 4,
   "id": "a1ff9b82-7e28-4c22-86f8-4483fc2ba8f9",
   "metadata": {},
   "outputs": [],
   "source": [
    "import pyspark\n",
    "from pyspark.sql import SparkSession\n",
    "from pyspark.sql.types import StructType\n",
    "from pyspark.sql import functions as F"
   ]
  },
  {
   "cell_type": "code",
   "execution_count": 5,
   "id": "ee5da1cc-ba3a-4d11-811d-5da234cd15d7",
   "metadata": {
    "scrolled": true
   },
   "outputs": [
    {
     "name": "stderr",
     "output_type": "stream",
     "text": [
      "24/04/24 10:48:23 WARN Utils: Your hostname, MacBook-Air-Paulina.local resolves to a loopback address: 127.0.0.1; using 192.168.33.5 instead (on interface en0)\n",
      "24/04/24 10:48:23 WARN Utils: Set SPARK_LOCAL_IP if you need to bind to another address\n",
      "Setting default log level to \"WARN\".\n",
      "To adjust logging level use sc.setLogLevel(newLevel). For SparkR, use setLogLevel(newLevel).\n",
      "24/04/24 10:48:24 WARN NativeCodeLoader: Unable to load native-hadoop library for your platform... using builtin-java classes where applicable\n"
     ]
    }
   ],
   "source": [
    "spark = SparkSession.builder.appName(\"hdfs_test\").config(\"spark.sql.execution.arrow.pyspark.enabled\", \"true\").getOrCreate()"
   ]
  },
  {
   "cell_type": "code",
   "execution_count": 7,
   "id": "48821737-6779-4108-8ba9-ed7b1011a755",
   "metadata": {
    "scrolled": true
   },
   "outputs": [
    {
     "name": "stderr",
     "output_type": "stream",
     "text": [
      "24/04/24 10:48:30 WARN SQLConf: The SQL config 'spark.sql.execution.arrow.enabled' has been deprecated in Spark v3.0 and may be removed in the future. Use 'spark.sql.execution.arrow.pyspark.enabled' instead of it.\n",
      "24/04/24 10:48:30 WARN SQLConf: The SQL config 'spark.sql.execution.arrow.enabled' has been deprecated in Spark v3.0 and may be removed in the future. Use 'spark.sql.execution.arrow.pyspark.enabled' instead of it.\n",
      "24/04/24 10:48:30 WARN SQLConf: The SQL config 'spark.sql.execution.arrow.enabled' has been deprecated in Spark v3.0 and may be removed in the future. Use 'spark.sql.execution.arrow.pyspark.enabled' instead of it.\n",
      "24/04/24 10:48:30 WARN SQLConf: The SQL config 'spark.sql.execution.arrow.enabled' has been deprecated in Spark v3.0 and may be removed in the future. Use 'spark.sql.execution.arrow.pyspark.enabled' instead of it.\n",
      "24/04/24 10:48:30 WARN SQLConf: The SQL config 'spark.sql.execution.arrow.enabled' has been deprecated in Spark v3.0 and may be removed in the future. Use 'spark.sql.execution.arrow.pyspark.enabled' instead of it.\n",
      "24/04/24 10:48:30 WARN SQLConf: The SQL config 'spark.sql.execution.arrow.enabled' has been deprecated in Spark v3.0 and may be removed in the future. Use 'spark.sql.execution.arrow.pyspark.enabled' instead of it.\n",
      "24/04/24 10:48:30 WARN SQLConf: The SQL config 'spark.sql.execution.arrow.enabled' has been deprecated in Spark v3.0 and may be removed in the future. Use 'spark.sql.execution.arrow.pyspark.enabled' instead of it.\n",
      "24/04/24 10:48:31 WARN SQLConf: The SQL config 'spark.sql.execution.arrow.enabled' has been deprecated in Spark v3.0 and may be removed in the future. Use 'spark.sql.execution.arrow.pyspark.enabled' instead of it.\n",
      "24/04/24 10:48:31 WARN SQLConf: The SQL config 'spark.sql.execution.arrow.enabled' has been deprecated in Spark v3.0 and may be removed in the future. Use 'spark.sql.execution.arrow.pyspark.enabled' instead of it.\n",
      "24/04/24 10:48:31 WARN SQLConf: The SQL config 'spark.sql.execution.arrow.enabled' has been deprecated in Spark v3.0 and may be removed in the future. Use 'spark.sql.execution.arrow.pyspark.enabled' instead of it.\n",
      "24/04/24 10:48:31 WARN SQLConf: The SQL config 'spark.sql.execution.arrow.enabled' has been deprecated in Spark v3.0 and may be removed in the future. Use 'spark.sql.execution.arrow.pyspark.enabled' instead of it.\n",
      "24/04/24 10:48:31 WARN SQLConf: The SQL config 'spark.sql.execution.arrow.enabled' has been deprecated in Spark v3.0 and may be removed in the future. Use 'spark.sql.execution.arrow.pyspark.enabled' instead of it.\n",
      "24/04/24 10:48:31 WARN SQLConf: The SQL config 'spark.sql.execution.arrow.enabled' has been deprecated in Spark v3.0 and may be removed in the future. Use 'spark.sql.execution.arrow.pyspark.enabled' instead of it.\n",
      "24/04/24 10:48:31 WARN SQLConf: The SQL config 'spark.sql.execution.arrow.enabled' has been deprecated in Spark v3.0 and may be removed in the future. Use 'spark.sql.execution.arrow.pyspark.enabled' instead of it.\n",
      "24/04/24 10:48:31 WARN SQLConf: The SQL config 'spark.sql.execution.arrow.enabled' has been deprecated in Spark v3.0 and may be removed in the future. Use 'spark.sql.execution.arrow.pyspark.enabled' instead of it.\n",
      "24/04/24 10:48:31 WARN SQLConf: The SQL config 'spark.sql.execution.arrow.enabled' has been deprecated in Spark v3.0 and may be removed in the future. Use 'spark.sql.execution.arrow.pyspark.enabled' instead of it.\n",
      "24/04/24 10:48:31 WARN SQLConf: The SQL config 'spark.sql.execution.arrow.enabled' has been deprecated in Spark v3.0 and may be removed in the future. Use 'spark.sql.execution.arrow.pyspark.enabled' instead of it.\n",
      "24/04/24 10:48:31 WARN SQLConf: The SQL config 'spark.sql.execution.arrow.enabled' has been deprecated in Spark v3.0 and may be removed in the future. Use 'spark.sql.execution.arrow.pyspark.enabled' instead of it.\n",
      "24/04/24 10:48:31 WARN SQLConf: The SQL config 'spark.sql.execution.arrow.enabled' has been deprecated in Spark v3.0 and may be removed in the future. Use 'spark.sql.execution.arrow.pyspark.enabled' instead of it.\n",
      "24/04/24 10:48:31 WARN SQLConf: The SQL config 'spark.sql.execution.arrow.enabled' has been deprecated in Spark v3.0 and may be removed in the future. Use 'spark.sql.execution.arrow.pyspark.enabled' instead of it.\n"
     ]
    }
   ],
   "source": [
    "files = ['channels', 'deliveries', 'drivers', 'hubs', 'orders', 'payments', 'stores']\n",
    "dfs = {}\n",
    "\n",
    "for file in files:\n",
    "    dfs[file] = spark.read.csv(\"hdfs://localhost:9000/user/maciek/\"+file+\".csv\", header=True, inferSchema=True)"
   ]
  },
  {
   "cell_type": "code",
   "execution_count": 8,
   "id": "1e010d13-e7ae-4b73-8fdb-cd5ccfe85541",
   "metadata": {
    "scrolled": true
   },
   "outputs": [],
   "source": [
    "channels = dfs['channels']"
   ]
  },
  {
   "cell_type": "code",
   "execution_count": 9,
   "id": "d76bcaa1-c5d2-4421-af7d-aa20b693bf77",
   "metadata": {},
   "outputs": [
    {
     "name": "stdout",
     "output_type": "stream",
     "text": [
      "+----------+--------------+------------+\n",
      "|channel_id|  channel_name|channel_type|\n",
      "+----------+--------------+------------+\n",
      "|         1|   OTHER PLACE| OWN CHANNEL|\n",
      "|         2|   PHONE PLACE| OWN CHANNEL|\n",
      "|         3|   WHATS PLACE| OWN CHANNEL|\n",
      "|         4|    FACE PLACE| OWN CHANNEL|\n",
      "|         5|    FOOD PLACE| MARKETPLACE|\n",
      "|         6|   STORE PLACE| OWN CHANNEL|\n",
      "|         7|  BERLIN PLACE| OWN CHANNEL|\n",
      "|         8|  MADRID PLACE| OWN CHANNEL|\n",
      "|         9|   THINK PLACE| OWN CHANNEL|\n",
      "|        10|  LISBON PLACE| OWN CHANNEL|\n",
      "|        11|   SUPER PLACE| OWN CHANNEL|\n",
      "|        12|     ALL PLACE| MARKETPLACE|\n",
      "|        13|VELOCITY PLACE| MARKETPLACE|\n",
      "|        15|    EATS PLACE| MARKETPLACE|\n",
      "|        17|   SHOPP PLACE| MARKETPLACE|\n",
      "|        20|  MUNICH PLACE| MARKETPLACE|\n",
      "|        21|  LONDON PLACE| MARKETPLACE|\n",
      "|        23|  ATCHIN PLACE| MARKETPLACE|\n",
      "|        24|    FULL PLACE| MARKETPLACE|\n",
      "|        25|      ON PLACE| MARKETPLACE|\n",
      "+----------+--------------+------------+\n",
      "only showing top 20 rows\n",
      "\n"
     ]
    }
   ],
   "source": [
    "channels.show()"
   ]
  },
  {
   "cell_type": "code",
   "execution_count": 10,
   "id": "02507bbb-4632-4833-9e9b-295d23d42863",
   "metadata": {},
   "outputs": [
    {
     "name": "stdout",
     "output_type": "stream",
     "text": [
      "channel_name number: 40\n",
      "\n",
      "unique values in channel name column: 40\n",
      "\n",
      "FOOD PLACE null values: 0\n",
      "FACE PLACE null values: 0\n",
      "LONGO PLACE null values: 0\n",
      "CENTER PLACE null values: 0\n",
      "ALL PLACE null values: 0\n",
      "RONALD PLACE null values: 0\n",
      "FULL PLACE null values: 0\n",
      "PORTO PLACE null values: 0\n",
      "SUPER PLACE null values: 0\n",
      "VELOCITY PLACE null values: 0\n",
      "AHORA PLACE null values: 0\n",
      "SEARCH PLACE null values: 0\n",
      "GLUB PLACE null values: 0\n",
      "CAICAI PLACE null values: 0\n",
      "OTHER PLACE null values: 0\n",
      "BERLIN PLACE null values: 0\n",
      "BEATLES PLACE null values: 0\n",
      "ON PLACE null values: 0\n",
      "SPEED PLACE null values: 0\n",
      "LONDON PLACE null values: 0\n",
      "WEAR PLACE null values: 0\n",
      "SAN PLACE null values: 0\n",
      "LISBON PLACE null values: 0\n",
      "SHOPP PLACE null values: 0\n",
      "RIBA PLACE null values: 0\n",
      "STORE PLACE null values: 0\n",
      "MUNICH PLACE null values: 0\n",
      "REGISTER PLACE null values: 0\n",
      "OWN PLACE null values: 0\n",
      "MADRID PLACE null values: 0\n",
      "THINK PLACE null values: 0\n",
      "EATS PLACE null values: 0\n",
      "ATCHIN PLACE null values: 0\n",
      "OFF PLACE null values: 0\n",
      "BRAZIL PLACE null values: 0\n",
      "READY PLACE null values: 0\n",
      "PHONE PLACE null values: 0\n",
      "CHOCO PLACE null values: 0\n",
      "PANCEPS PLACE null values: 0\n",
      "WHATS PLACE null values: 0\n",
      "\n",
      "number of unique values in each column:\n",
      " {'channel_id': 0, 'channel_name': 0, 'channel_type': 0}\n"
     ]
    }
   ],
   "source": [
    "from pyspark.sql import functions as F\n",
    "\n",
    "\n",
    "print(f\"channel_name number: {channels.select('channel_name').distinct().count()}\\n\")\n",
    "\n",
    "### unique values occurance \n",
    "grouped_data = channels.groupBy('channel_name').agg(F.count('*').alias('count'))\n",
    "print(f\"unique values in channel name column: {grouped_data.count()}\\n\")\n",
    "\n",
    "### null values number for each value in channel name\n",
    "nul_vals_cn = channels.groupBy('channel_name').agg(F.sum(F.col('channel_name').isNull().cast(\"int\")).alias(\"null_count\")).collect()\n",
    "for row in nul_vals_cn:\n",
    "    print(f\"{row['channel_name']} null values: {row['null_count']}\")\n",
    "\n",
    "### total null values number in each column\n",
    "tot_nan_vals = channels.select(*(F.sum(F.col(c).isNull().cast(\"int\")).alias(c) for c in channels.columns)).collect()[0].asDict()\n",
    "print(f\"\\nnumber of unique values in each column:\\n {tot_nan_vals}\")\n"
   ]
  },
  {
   "cell_type": "code",
   "execution_count": 11,
   "id": "6423234b-7c11-42a4-904d-f0e7f294f76e",
   "metadata": {},
   "outputs": [],
   "source": [
    "deliveries = dfs['deliveries']"
   ]
  },
  {
   "cell_type": "code",
   "execution_count": 12,
   "id": "bae0459f-4d52-4d25-88db-5ed5ca0a1c77",
   "metadata": {},
   "outputs": [
    {
     "name": "stderr",
     "output_type": "stream",
     "text": [
      "24/04/24 10:48:32 WARN SparkStringUtils: Truncated the string representation of a plan since it was too large. This behavior can be adjusted by setting 'spark.sql.debug.maxToStringFields'.\n"
     ]
    },
    {
     "name": "stdout",
     "output_type": "stream",
     "text": [
      "+-------+-----------------+-------------------+------------------+------------------------+---------------+\n",
      "|summary|      delivery_id|  delivery_order_id|         driver_id|delivery_distance_meters|delivery_status|\n",
      "+-------+-----------------+-------------------+------------------+------------------------+---------------+\n",
      "|  count|           378843|             378843|            362957|                  378770|         378843|\n",
      "|   mean| 2634216.36283896|8.220422339218093E7| 21001.77764308169|      10721.360044354093|           NULL|\n",
      "| stddev|264655.3209144291|  6996909.141038616|15520.652243004235|       231539.1894589949|           NULL|\n",
      "|    min|          2174658|           68409030|               133|                       0|      CANCELLED|\n",
      "|    max|          3144739|           93139817|             66459|                 7251291|     DELIVERING|\n",
      "+-------+-----------------+-------------------+------------------+------------------------+---------------+\n",
      "\n",
      "None\n",
      "+-----------+-----------------+---------+------------------------+---------------+\n",
      "|delivery_id|delivery_order_id|driver_id|delivery_distance_meters|delivery_status|\n",
      "+-----------+-----------------+---------+------------------------+---------------+\n",
      "|    2174658|         68413340|     8378|                    5199|      DELIVERED|\n",
      "|    2174660|         68414309|     2473|                     410|      DELIVERED|\n",
      "|    2174661|         68416230|     7615|                    3784|      DELIVERED|\n",
      "|    2174663|         68412721|     8378|                    5714|      DELIVERED|\n",
      "|    2174675|         68414018|    10463|                    3746|      DELIVERED|\n",
      "|    2174680|         68415103|    16430|                    3924|      DELIVERED|\n",
      "|    2174693|         68416643|    14513|                    2489|      DELIVERED|\n",
      "|    2174695|         68417783|     NULL|                    2564|      CANCELLED|\n",
      "|    2174696|         68415457|     9996|                     340|      DELIVERED|\n",
      "|    2174697|         68414563|    23092|                    1081|      DELIVERED|\n",
      "|    2174699|         68415140|     9996|                    2880|      DELIVERED|\n",
      "|    2174705|         68416059|     9996|                    1450|      DELIVERED|\n",
      "|    2174707|         68417307|    25575|                    1699|      DELIVERED|\n",
      "|    2174708|         68416059|     9996|                    1450|      DELIVERED|\n",
      "|    2174712|         68415947|     9392|                    5951|      DELIVERED|\n",
      "|    2174713|         68416226|    15156|                    2353|      DELIVERED|\n",
      "|    2174715|         68417646|    29669|                    1014|      DELIVERED|\n",
      "|    2174720|         68416227|    10514|                    5796|      DELIVERED|\n",
      "|    2174724|         68416397|     7396|                    4425|      DELIVERED|\n",
      "|    2174729|         68418089|    14702|                    2007|      DELIVERED|\n",
      "+-----------+-----------------+---------+------------------------+---------------+\n",
      "only showing top 20 rows\n",
      "\n"
     ]
    }
   ],
   "source": [
    "print(deliveries.describe().show())\n",
    "deliveries.show()"
   ]
  },
  {
   "cell_type": "code",
   "execution_count": 13,
   "id": "4564243a-5508-4f39-8b25-5c6443c9a7bb",
   "metadata": {
    "scrolled": true
   },
   "outputs": [
    {
     "name": "stdout",
     "output_type": "stream",
     "text": [
      "delivery status distinct number: 3\n",
      "\n",
      "unique values in delivery status column: 3\n",
      "\n",
      "<class 'dict'>\n",
      "number of null values in  column delivery_id: 0\n",
      "\n",
      "number of null values in  column delivery_order_id: 0\n",
      "\n",
      "number of null values in  column driver_id: 15886\n",
      "\n",
      "number of null values in  column delivery_distance_meters: 73\n",
      "\n",
      "number of null values in  column delivery_status: 0\n",
      "\n"
     ]
    }
   ],
   "source": [
    "print(f\"delivery status distinct number: {deliveries.select('delivery_status').distinct().count()}\\n\")\n",
    "\n",
    "### unique values occurance \n",
    "grouped_data = deliveries.groupBy('delivery_status').agg(F.count('*').alias('count'))\n",
    "print(f\"unique values in delivery status column: {grouped_data.count()}\\n\")\n",
    "\n",
    "### total null values number in each column\n",
    "tot_nan_vals = deliveries.select(*(F.sum(F.col(c).isNull().cast(\"int\")).alias(c) for c in deliveries.columns)).collect()[0].asDict()\n",
    "print(type(tot_nan_vals))\n",
    "for key, val in tot_nan_vals.items():\n",
    "   print(f\"number of null values in  column {key}: {val}\\n\")\n"
   ]
  },
  {
   "cell_type": "code",
   "execution_count": 14,
   "id": "1fa9717a-a9ec-4713-896e-7197ee2d7d9f",
   "metadata": {},
   "outputs": [],
   "source": [
    "hubs = dfs['hubs']"
   ]
  },
  {
   "cell_type": "code",
   "execution_count": 15,
   "id": "57c69ef9-9c78-4d1d-a1a7-fd6d0949a772",
   "metadata": {},
   "outputs": [
    {
     "name": "stdout",
     "output_type": "stream",
     "text": [
      "CodeCache: size=131072Kb used=39049Kb max_used=39083Kb free=92023Kb\n",
      " bounds [0x00000001061e8000, 0x0000000108858000, 0x000000010e1e8000]\n",
      " total_blobs=14336 nmethods=13332 adapters=915\n",
      " compilation: disabled (not enough contiguous free space left)\n"
     ]
    },
    {
     "name": "stderr",
     "output_type": "stream",
     "text": [
      "Java HotSpot(TM) 64-Bit Server VM warning: CodeCache is full. Compiler has been disabled.\n",
      "Java HotSpot(TM) 64-Bit Server VM warning: Try increasing the code cache size using -XX:ReservedCodeCacheSize=\n"
     ]
    },
    {
     "name": "stdout",
     "output_type": "stream",
     "text": [
      "+-------+----------------+---------------+---------+---------+-----------------+-----------------+\n",
      "|summary|          hub_id|       hub_name| hub_city|hub_state|     hub_latitude|    hub_longitude|\n",
      "+-------+----------------+---------------+---------+---------+-----------------+-----------------+\n",
      "|  count|              32|             32|       32|       32|               32|               32|\n",
      "|   mean|        34.40625|           NULL|     NULL|     NULL|-24.4207382740625|   -46.5114598125|\n",
      "| stddev|24.9035032838043|           NULL|     NULL|     NULL|2.289950688834545|2.668164650441109|\n",
      "|    min|               2|AVENUE SHOPPING| CURITIBA|       PR|       -30.085743|       -51.245997|\n",
      "|    max|              91|  WOLF SHOPPING|S�O PAULO|       SP|      -22.8858199|      -43.1821807|\n",
      "+-------+----------------+---------------+---------+---------+-----------------+-----------------+\n",
      "\n",
      "None\n",
      "+------+----------------+--------------+---------+------------+-------------+\n",
      "|hub_id|        hub_name|      hub_city|hub_state|hub_latitude|hub_longitude|\n",
      "+------+----------------+--------------+---------+------------+-------------+\n",
      "|     2|   BLUE SHOPPING|  PORTO ALEGRE|       RS| -30.0474148|    -51.21351|\n",
      "|     3|  GREEN SHOPPING|  PORTO ALEGRE|       RS| -30.0374149|    -51.20352|\n",
      "|     4|    RED SHOPPING|  PORTO ALEGRE|       RS| -30.0219481|  -51.2083816|\n",
      "|     5|   FUNK SHOPPING|RIO DE JANEIRO|       RJ| -23.0007498|   -43.318282|\n",
      "|     8| GOLDEN SHOPPING|RIO DE JANEIRO|       RJ|  -22.921475|   -43.234774|\n",
      "|    13|HIP HOP SHOPPING|RIO DE JANEIRO|       RJ| -22.8858199|  -43.2792183|\n",
      "|    16| PEOPLE SHOPPING|RIO DE JANEIRO|       RJ| -23.0174723|  -43.4799389|\n",
      "|    17|  SMALL SHOPPING|     S�O PAULO|       SP| -23.5920041|  -46.6365035|\n",
      "|    18|   STAR SHOPPING|RIO DE JANEIRO|       RJ| -22.9454948|  -43.1821807|\n",
      "|    20| PURPLE SHOPPING|RIO DE JANEIRO|       RJ|  -22.996848|   -43.359636|\n",
      "|    21|   WOLF SHOPPING|     S�O PAULO|       SP|  -23.550407|  -46.6973162|\n",
      "|    22|  COLOR SHOPPING|RIO DE JANEIRO|       RJ| -23.0007532|  -43.3837713|\n",
      "|    25| AVENUE SHOPPING|     S�O PAULO|       SP| -23.5677027|   -46.642043|\n",
      "|    26|    SQL SHOPPING|     S�O PAULO|       SP| -23.5630195|   -46.652621|\n",
      "|    27|  SAMPA SHOPPING|     S�O PAULO|       SP|  -23.622995|   -46.699204|\n",
      "|    28|    RAP SHOPPING|     S�O PAULO|       SP|  -23.595001|   -46.685984|\n",
      "|    29| SUBWAY SHOPPING|     S�O PAULO|       SP|  -23.561053|   -46.558976|\n",
      "|    31| PAGODE SHOPPING|     S�O PAULO|       SP|  -23.629826|   -46.735203|\n",
      "|    33| COFFEE SHOPPING|     S�O PAULO|       SP|  -23.579067|    -46.59282|\n",
      "|    35|  BEACH SHOPPING|RIO DE JANEIRO|       RJ|   -22.96988|   -43.370811|\n",
      "|    36|  BLACK SHOPPING|  PORTO ALEGRE|       RS|  -30.085743|   -51.245997|\n",
      "|    37|  RIVER SHOPPING|     S�O PAULO|       SP|  -23.507105|   -46.718197|\n",
      "|    42|    PHP SHOPPING|      CURITIBA|       PR| -25.4381052|   -49.266532|\n",
      "|    43|HOTMILK SHOPPING|      CURITIBA|       PR| -25.4412212|    -49.27769|\n",
      "|    44|FORTRAN SHOPPING|      CURITIBA|       PR| -25.4351398|  -49.3167883|\n",
      "|    51|   RUBY SHOPPING|RIO DE JANEIRO|       RJ|  -22.923675|  -43.5677575|\n",
      "|    55| ELIXIR SHOPPING|     S�O PAULO|       SP| -23.5217758|  -46.6241516|\n",
      "|    73|HUBLESS SHOPPING|     S�O PAULO|       SP|  -22.947461|  -43.1834672|\n",
      "|    75| PYTHON SHOPPING|      CURITIBA|       PR|  -25.477073|    -49.28966|\n",
      "|    85|  REACT SHOPPING|     S�O PAULO|       SP| -23.5133533|  -46.6183535|\n",
      "|    86|      R SHOPPING|     S�O PAULO|       SP|-23.54150197|  -46.5766182|\n",
      "|    91|  GAROA SHOPPING|     S�O PAULO|       SP| -23.5251244|  -46.5468072|\n",
      "+------+----------------+--------------+---------+------------+-------------+\n",
      "\n"
     ]
    }
   ],
   "source": [
    "print(hubs.describe().show())\n",
    "hubs.show(32)"
   ]
  },
  {
   "cell_type": "code",
   "execution_count": 16,
   "id": "f894076b-dc26-4212-9353-6ba52c89590a",
   "metadata": {},
   "outputs": [],
   "source": [
    "drivers = dfs['drivers']"
   ]
  },
  {
   "cell_type": "code",
   "execution_count": 17,
   "id": "e9718da7-9fde-4df0-9685-d791b7bafd3b",
   "metadata": {},
   "outputs": [
    {
     "name": "stdout",
     "output_type": "stream",
     "text": [
      "+-------+------------------+------------+-----------------+\n",
      "|summary|         driver_id|driver_modal|      driver_type|\n",
      "+-------+------------------+------------+-----------------+\n",
      "|  count|              4824|        4824|             4824|\n",
      "|   mean|29681.790008291875|        NULL|             NULL|\n",
      "| stddev| 18391.79806919864|        NULL|             NULL|\n",
      "|    min|               133|       BIKER|        FREELANCE|\n",
      "|    max|             66494|     MOTOBOY|LOGISTIC OPERATOR|\n",
      "+-------+------------------+------------+-----------------+\n",
      "\n",
      "None\n",
      "+---------+------------+-----------------+\n",
      "|driver_id|driver_modal|      driver_type|\n",
      "+---------+------------+-----------------+\n",
      "|      133|     MOTOBOY|LOGISTIC OPERATOR|\n",
      "|      138|     MOTOBOY|        FREELANCE|\n",
      "|      140|     MOTOBOY|        FREELANCE|\n",
      "|      143|       BIKER|        FREELANCE|\n",
      "|      148|     MOTOBOY|        FREELANCE|\n",
      "|      165|     MOTOBOY|        FREELANCE|\n",
      "|      172|     MOTOBOY|        FREELANCE|\n",
      "|      174|       BIKER|        FREELANCE|\n",
      "|      187|       BIKER|        FREELANCE|\n",
      "|      196|       BIKER|        FREELANCE|\n",
      "|      202|       BIKER|        FREELANCE|\n",
      "|      210|     MOTOBOY|        FREELANCE|\n",
      "|      217|     MOTOBOY|LOGISTIC OPERATOR|\n",
      "|      223|     MOTOBOY|        FREELANCE|\n",
      "|      224|       BIKER|        FREELANCE|\n",
      "|      225|     MOTOBOY|LOGISTIC OPERATOR|\n",
      "|      228|     MOTOBOY|        FREELANCE|\n",
      "|      231|     MOTOBOY|LOGISTIC OPERATOR|\n",
      "|      243|     MOTOBOY|LOGISTIC OPERATOR|\n",
      "|      245|     MOTOBOY|        FREELANCE|\n",
      "+---------+------------+-----------------+\n",
      "only showing top 20 rows\n",
      "\n"
     ]
    }
   ],
   "source": [
    "print(drivers.describe().show())\n",
    "drivers.show()"
   ]
  },
  {
   "cell_type": "code",
   "execution_count": 18,
   "id": "949b3372-3ff2-42ea-8855-ecbbe0d918b5",
   "metadata": {},
   "outputs": [
    {
     "name": "stdout",
     "output_type": "stream",
     "text": [
      "unique values in driver modal column: 2\n"
     ]
    }
   ],
   "source": [
    "d_modal_vls = drivers.select('driver_modal').distinct().count()\n",
    "print(f\"unique values in driver modal column: {d_modal_vls}\")"
   ]
  },
  {
   "cell_type": "code",
   "execution_count": 19,
   "id": "40ecf634-21ce-4d2d-9895-ef6bfe0c5c70",
   "metadata": {},
   "outputs": [],
   "source": [
    "orders = dfs['orders']"
   ]
  },
  {
   "cell_type": "code",
   "execution_count": 20,
   "id": "05ad5d17-3fb0-42c0-a5ea-7768768ab433",
   "metadata": {},
   "outputs": [
    {
     "name": "stdout",
     "output_type": "stream",
     "text": [
      "29\n",
      "['order_id', 'store_id', 'channel_id', 'payment_order_id', 'delivery_order_id', 'order_status', 'order_amount', 'order_delivery_fee', 'order_delivery_cost', 'order_created_hour', 'order_created_minute', 'order_created_day', 'order_created_month', 'order_created_year', 'order_moment_created', 'order_moment_accepted', 'order_moment_ready', 'order_moment_collected', 'order_moment_in_expedition', 'order_moment_delivering', 'order_moment_delivered', 'order_moment_finished', 'order_metric_collected_time', 'order_metric_paused_time', 'order_metric_production_time', 'order_metric_walking_time', 'order_metric_expediton_speed_time', 'order_metric_transit_time', 'order_metric_cycle_time']\n"
     ]
    }
   ],
   "source": [
    "#print(orders.describe().show())\n",
    "print(len(orders.columns))\n",
    "print(orders.columns)"
   ]
  },
  {
   "cell_type": "code",
   "execution_count": 60,
   "id": "07c938bf-f8f2-4203-b12a-0e6d7ba126df",
   "metadata": {},
   "outputs": [],
   "source": [
    "payments = dfs['payments']"
   ]
  },
  {
   "cell_type": "code",
   "execution_count": 61,
   "id": "6f3d6f63-2e2c-4ffb-ad12-7f70e9d7860f",
   "metadata": {},
   "outputs": [
    {
     "name": "stderr",
     "output_type": "stream",
     "text": [
      "[Stage 172:>                                                        (0 + 4) / 4]\r"
     ]
    },
    {
     "name": "stdout",
     "output_type": "stream",
     "text": [
      "+-------+------------------+-------------------+------------------+------------------+----------------+--------------+\n",
      "|summary|        payment_id|   payment_order_id|    payment_amount|       payment_fee|  payment_method|payment_status|\n",
      "+-------+------------------+-------------------+------------------+------------------+----------------+--------------+\n",
      "|  count|            400834|             400834|            400834|            400659|          400834|        400834|\n",
      "|   mean|4951200.0591092575|8.234181374782579E7| 93.08926119043774|1.8805104839776046|            NULL|          NULL|\n",
      "| stddev|  301492.397809497|  7002740.920972272|221.94716737607547|4.5400129754679295|            NULL|          NULL|\n",
      "|    min|           4427917|           68410055|               0.0|               0.0|BANK_TRANSFER_DC|      AWAITING|\n",
      "|    max|           5540806|           93139817|         100000.11|            2000.0|   VOUCHER_STORE|          PAID|\n",
      "+-------+------------------+-------------------+------------------+------------------+----------------+--------------+\n",
      "\n",
      "None\n",
      "+----------+----------------+--------------+-----------+--------------+--------------+\n",
      "|payment_id|payment_order_id|payment_amount|payment_fee|payment_method|payment_status|\n",
      "+----------+----------------+--------------+-----------+--------------+--------------+\n",
      "|   4427917|        68410055|        118.44|        0.0|       VOUCHER|          PAID|\n",
      "|   4427918|        68410055|        394.81|        7.9|        ONLINE|          PAID|\n",
      "|   4427941|        68412721|        206.95|       5.59|        ONLINE|          PAID|\n",
      "|   4427948|        68413340|          58.8|       1.59|        ONLINE|          PAID|\n",
      "|   4427955|        68414018|          45.8|       0.92|        ONLINE|          PAID|\n",
      "|   4427956|        68414309|         106.8|       2.88|        ONLINE|          PAID|\n",
      "|   4427961|        68414512|          57.8|       1.56|        ONLINE|          PAID|\n",
      "|   4427963|        68414563|          26.9|        0.4|        ONLINE|          PAID|\n",
      "|   4427975|        68415103|         115.5|       3.12|        ONLINE|          PAID|\n",
      "|   4427976|        68415140|         199.3|       5.38|        ONLINE|          PAID|\n",
      "|   4427980|        68415344|          95.3|       2.57|        ONLINE|          PAID|\n",
      "|   4427983|        68415457|         148.7|       4.01|        ONLINE|          PAID|\n",
      "|   4427988|        68415474|         170.2|        4.6|        ONLINE|          PAID|\n",
      "|   4427989|        68415543|          19.9|        0.3|        ONLINE|          PAID|\n",
      "|   4427990|        68415543|           5.0|        0.0|       VOUCHER|          PAID|\n",
      "|   4427997|        68415947|          25.9|       0.52|        ONLINE|          PAID|\n",
      "|   4427999|        68416059|         175.2|       4.73|        ONLINE|          PAID|\n",
      "|   4428001|        68416226|          31.4|       0.63|        ONLINE|          PAID|\n",
      "|   4428002|        68416227|          25.9|       0.52|        ONLINE|          PAID|\n",
      "|   4428003|        68416230|         46.79|        0.7|        ONLINE|          PAID|\n",
      "+----------+----------------+--------------+-----------+--------------+--------------+\n",
      "only showing top 20 rows\n",
      "\n"
     ]
    },
    {
     "name": "stderr",
     "output_type": "stream",
     "text": [
      "                                                                                \r"
     ]
    }
   ],
   "source": [
    "print(payments.describe().show())\n",
    "payments.show()"
   ]
  },
  {
   "cell_type": "code",
   "execution_count": 62,
   "id": "5d942006-1d8d-4452-95c8-642db5257cce",
   "metadata": {},
   "outputs": [
    {
     "name": "stdout",
     "output_type": "stream",
     "text": [
      "3\n",
      "number of null values in CHARGEBACK column: 0\n",
      "number of null values in PAID column: 0\n",
      "number of null values in AWAITING column: 0\n",
      "+--------------+------+\n",
      "|payment_status|number|\n",
      "+--------------+------+\n",
      "|    CHARGEBACK|   438|\n",
      "|          PAID|400381|\n",
      "|      AWAITING|    15|\n",
      "+--------------+------+\n",
      "\n",
      "None\n"
     ]
    }
   ],
   "source": [
    "status_un = payments.select('payment_status').distinct().count()\n",
    "print(status_un)\n",
    "vls_occ = payments.groupBy('payment_status').agg(F.sum(F.col('payment_status').isNull().cast(\"int\")).alias('null_vls')).collect()\n",
    "for row in vls_occ:\n",
    "    print(f\"number of null values in {row['payment_status']} column: {row['null_vls']}\")\n",
    "\n",
    "payment_gb = payments.groupBy('payment_status').agg(F.count('*').alias('number'))\n",
    "print(payment_gb.show())"
   ]
  },
  {
   "cell_type": "code",
   "execution_count": 24,
   "id": "1906ea20-5934-41df-b7ee-f76b5dad4dfc",
   "metadata": {},
   "outputs": [],
   "source": [
    "stores = dfs['stores']"
   ]
  },
  {
   "cell_type": "code",
   "execution_count": 25,
   "id": "9e0e2a20-5d0f-4d5e-ba7c-dbd586713e40",
   "metadata": {
    "scrolled": true
   },
   "outputs": [
    {
     "name": "stdout",
     "output_type": "stream",
     "text": [
      "+-------+------------------+------------------+--------------+-------------+-----------------+------------------+------------------+\n",
      "|summary|          store_id|            hub_id|    store_name|store_segment| store_plan_price|    store_latitude|   store_longitude|\n",
      "+-------+------------------+------------------+--------------+-------------+-----------------+------------------+------------------+\n",
      "|  count|               951|               951|           951|          951|              836|               935|               935|\n",
      "|   mean|2080.5552050473184| 30.37539432176656|          NULL|         NULL| 34.8165311004786|-23.88641021835297|-46.04286869650257|\n",
      "| stddev|1338.5905906279252|18.961983691118437|          NULL|         NULL|14.30408567487769|1.5583846446157017|2.2980003371948903|\n",
      "|    min|                 3|                 2|ACA PRISSURAU |         FOOD|              0.0|        -30.085743|        -51.245997|\n",
      "|    max|              4679|                91|�RPIR PILMACI |         GOOD|             49.9|       -19.8753564|        -43.176536|\n",
      "+-------+------------------+------------------+--------------+-------------+-----------------+------------------+------------------+\n",
      "\n",
      "None\n",
      "+--------+------+--------------------+-------------+----------------+--------------+---------------+\n",
      "|store_id|hub_id|          store_name|store_segment|store_plan_price|store_latitude|store_longitude|\n",
      "+--------+------+--------------------+-------------+----------------+--------------+---------------+\n",
      "|       3|     2|             CUMIURI|         FOOD|             0.0|          NULL|           NULL|\n",
      "|       6|     3|   PIMGUCIS DA VIVA |         FOOD|             0.0|   -30.0374149|      -51.20352|\n",
      "|       8|     3|           RASMUR S |         FOOD|             0.0|   -30.0374149|      -51.20352|\n",
      "|      53|     8|         PAPA SUCIS |         FOOD|             0.0|    -22.921475|     -43.234822|\n",
      "|      54|     8|       VUZPI PAZZIS |         FOOD|             0.0|    -22.921475|     -43.234822|\n",
      "|      56|     8|             SUPSIO |         FOOD|            49.0|    -22.921475|     -43.234822|\n",
      "|      58|     8|          PIAMUARIS |         FOOD|            49.0|    -22.921475|     -43.234822|\n",
      "|      82|     8|             LUCITA |         FOOD|             0.0|    -22.921475|     -43.234822|\n",
      "|      83|     8|          PRARIZZAI |         FOOD|             0.0|    -22.921475|     -43.234822|\n",
      "|      84|     8|     PALLO MZU GRALA|         FOOD|            49.0|    -22.921475|     -43.234822|\n",
      "|      85|     8|         PRISMAURAI |         FOOD|             0.0|    -22.921475|     -43.234822|\n",
      "|      88|     8|            EUGUSMI |         GOOD|             0.0|    -22.921475|     -43.234822|\n",
      "|      89|     8|      LIS URPIMIOUS |         FOOD|            49.0|    -22.921475|     -43.234822|\n",
      "|      90|     8|CISI DA POI EU QU...|         FOOD|            49.0|    -22.921475|     -43.234822|\n",
      "|      95|     8|         ARE TRAMUO |         FOOD|            49.0|    -22.921475|     -43.234822|\n",
      "|      96|     5|     PIRMI DA SIPIR |         FOOD|             0.0|   -23.0007498|     -43.318364|\n",
      "|      99|     8|     SIRVUMU AMILAI |         FOOD|             0.0|    -22.921475|     -43.234822|\n",
      "|     100|     8|           LUPIMUIM |         FOOD|            49.9|    -22.921475|     -43.234822|\n",
      "|     122|     4|             MASUCIE|         GOOD|             0.0|          NULL|           NULL|\n",
      "|     141|     8|        RO PRISMAUS |         FOOD|             0.0|    -22.921475|     -43.234822|\n",
      "+--------+------+--------------------+-------------+----------------+--------------+---------------+\n",
      "only showing top 20 rows\n",
      "\n"
     ]
    }
   ],
   "source": [
    "print(stores.describe().show())\n",
    "stores.show()"
   ]
  },
  {
   "cell_type": "code",
   "execution_count": 26,
   "id": "9e403da1-adb3-4ac6-a55b-f614ff7ad0f2",
   "metadata": {},
   "outputs": [
    {
     "name": "stdout",
     "output_type": "stream",
     "text": [
      "+-------------+---------+\n",
      "|store_segment|shops_num|\n",
      "+-------------+---------+\n",
      "|         FOOD|      384|\n",
      "|         GOOD|      567|\n",
      "+-------------+---------+\n",
      "\n",
      "None\n"
     ]
    }
   ],
   "source": [
    "shops = stores.groupBy('store_segment').agg(F.count('*').alias('shops_num'))\n",
    "print(shops.show())"
   ]
  },
  {
   "cell_type": "markdown",
   "id": "6e6d13dd-f9ff-40df-a189-2f9e10a04bb5",
   "metadata": {},
   "source": [
    "#### "
   ]
  },
  {
   "cell_type": "markdown",
   "id": "150996f4-f281-459b-8e4e-4db24d8374d0",
   "metadata": {},
   "source": [
    "#### Plan\n",
    "1. how many orders are canceled (before payment, after payment)\n",
    "2. What's average time of delivery for food and good, take into account distance of delivery and type of transp\n",
    "3. Average amount for food and good order\n",
    "4. Average amount for each store, number of orders for each store and for each hub\n",
    "5. "
   ]
  },
  {
   "cell_type": "code",
   "execution_count": 27,
   "id": "30a606ab-8389-48e2-ae0d-558e389049e2",
   "metadata": {},
   "outputs": [
    {
     "name": "stdout",
     "output_type": "stream",
     "text": [
      "['order_id', 'store_id', 'channel_id', 'payment_order_id', 'delivery_order_id', 'order_status', 'order_amount', 'order_delivery_fee', 'order_delivery_cost', 'order_created_hour', 'order_created_minute', 'order_created_day', 'order_created_month', 'order_created_year', 'order_moment_created', 'order_moment_accepted', 'order_moment_ready', 'order_moment_collected', 'order_moment_in_expedition', 'order_moment_delivering', 'order_moment_delivered', 'order_moment_finished', 'order_metric_collected_time', 'order_metric_paused_time', 'order_metric_production_time', 'order_metric_walking_time', 'order_metric_expediton_speed_time', 'order_metric_transit_time', 'order_metric_cycle_time']\n"
     ]
    }
   ],
   "source": [
    "print(orders.columns)"
   ]
  },
  {
   "cell_type": "code",
   "execution_count": 48,
   "id": "88766e2e-21ca-4833-bf2a-d6b15a781709",
   "metadata": {},
   "outputs": [],
   "source": [
    "order_m = orders.join(stores, 'store_id', 'left')"
   ]
  },
  {
   "cell_type": "code",
   "execution_count": 28,
   "id": "ba5a0f8c-1ee8-409c-96d8-e379ee878d41",
   "metadata": {},
   "outputs": [
    {
     "name": "stdout",
     "output_type": "stream",
     "text": [
      "+------------+------+\n",
      "|order_status|number|\n",
      "+------------+------+\n",
      "|    FINISHED|352020|\n",
      "|    CANCELED| 16979|\n",
      "+------------+------+\n",
      "\n",
      "None\n"
     ]
    }
   ],
   "source": [
    "order_st = orders_m.groupBy('order_status').agg(F.count('*').alias('number'))\n",
    "print(order_st.show())"
   ]
  },
  {
   "cell_type": "code",
   "execution_count": 63,
   "id": "b4a12ab8-75cd-4de9-8789-261904e63c5a",
   "metadata": {},
   "outputs": [
    {
     "name": "stdout",
     "output_type": "stream",
     "text": [
      "+--------+--------+----------+----------------+-----------------+------------+------------+------------+-------------+\n",
      "|order_id|store_id|channel_id|payment_order_id|delivery_order_id|order_status|order_amount|order_status|store_segment|\n",
      "+--------+--------+----------+----------------+-----------------+------------+------------+------------+-------------+\n",
      "|68405119|    3512|         5|        68405119|         68405119|    CANCELED|        62.7|    CANCELED|         FOOD|\n",
      "|68405123|    3512|         5|        68405123|         68405123|    CANCELED|        62.7|    CANCELED|         FOOD|\n",
      "|68405206|    3512|         5|        68405206|         68405206|    CANCELED|       115.5|    CANCELED|         FOOD|\n",
      "|68405465|    3401|         5|        68405465|         68405465|    CANCELED|        55.9|    CANCELED|         FOOD|\n",
      "|68406064|    3401|         5|        68406064|         68406064|    CANCELED|        37.9|    CANCELED|         FOOD|\n",
      "|68408108|     786|         5|        68408108|         68408108|    CANCELED|        80.0|    CANCELED|         GOOD|\n",
      "|68408109|    1125|         5|        68408109|         68408109|    CANCELED|        71.0|    CANCELED|         FOOD|\n",
      "|68409030|    1064|        35|        68409030|         68409030|    CANCELED|       214.8|    CANCELED|         GOOD|\n",
      "|68412121|    1152|         5|        68412121|         68412121|    CANCELED|        25.5|    CANCELED|         FOOD|\n",
      "|68412122|     490|         5|        68412122|         68412122|    CANCELED|        30.0|    CANCELED|         FOOD|\n",
      "|68412123|     674|         5|        68412123|         68412123|    CANCELED|        74.5|    CANCELED|         FOOD|\n",
      "|68412131|     490|         5|        68412131|         68412131|    CANCELED|        48.0|    CANCELED|         FOOD|\n",
      "|68412134|     679|         5|        68412134|         68412134|    CANCELED|        34.9|    CANCELED|         FOOD|\n",
      "|68412148|     294|         5|        68412148|         68412148|    CANCELED|        34.0|    CANCELED|         FOOD|\n",
      "|68412322|     294|         5|        68412322|         68412322|    CANCELED|        39.3|    CANCELED|         FOOD|\n",
      "|68412444|     294|         5|        68412444|         68412444|    CANCELED|        41.5|    CANCELED|         FOOD|\n",
      "|68414907|     294|         5|        68414907|         68414907|    CANCELED|        32.4|    CANCELED|         FOOD|\n",
      "|68416339|    1530|         5|        68416339|         68416339|    CANCELED|        34.2|    CANCELED|         FOOD|\n",
      "|68417189|     406|         5|        68417189|         68417189|    CANCELED|        25.9|    CANCELED|         FOOD|\n",
      "|68417783|     659|         5|        68417783|         68417783|    CANCELED|       121.1|    CANCELED|         FOOD|\n",
      "+--------+--------+----------+----------------+-----------------+------------+------------+------------+-------------+\n",
      "only showing top 20 rows\n",
      "\n"
     ]
    }
   ],
   "source": [
    "order_m = orders.join(stores, 'store_id', 'left')\n",
    "canceled = order_m.select('order_id', \n",
    "                         'store_id', \n",
    "                         'channel_id', \n",
    "                         'payment_order_id', \n",
    "                         'delivery_order_id', \n",
    "                         'order_status', \n",
    "                         'order_amount',\n",
    "                         'order_status',\n",
    "                         'store_segment'\n",
    "                        ).filter(orders['order_status'] == 'CANCELED')\n",
    "canceled.show()"
   ]
  },
  {
   "cell_type": "code",
   "execution_count": 64,
   "id": "a9f81c7a-357a-4453-a701-00e186df267a",
   "metadata": {},
   "outputs": [
    {
     "name": "stderr",
     "output_type": "stream",
     "text": [
      "[Stage 191:>                (0 + 4) / 4][Stage 192:========>        (4 + 4) / 8]\r"
     ]
    },
    {
     "name": "stdout",
     "output_type": "stream",
     "text": [
      "+----------------+----------+--------------+-----------+--------------+--------------+-------------+\n",
      "|payment_order_id|payment_id|payment_amount|payment_fee|payment_method|payment_status|store_segment|\n",
      "+----------------+----------+--------------+-----------+--------------+--------------+-------------+\n",
      "|        68414309|   4427956|         106.8|       2.88|        ONLINE|          PAID|         FOOD|\n",
      "|        68415344|   4427980|          95.3|       2.57|        ONLINE|          PAID|         FOOD|\n",
      "|        68415457|   4427983|         148.7|       4.01|        ONLINE|          PAID|         FOOD|\n",
      "|        68417787|   4428039|          72.9|       1.09|        ONLINE|          PAID|         FOOD|\n",
      "|        68417787|   4428040|           5.0|        0.0|       VOUCHER|          PAID|         FOOD|\n",
      "+----------------+----------+--------------+-----------+--------------+--------------+-------------+\n",
      "only showing top 5 rows\n",
      "\n"
     ]
    },
    {
     "name": "stderr",
     "output_type": "stream",
     "text": [
      "                                                                                \r"
     ]
    }
   ],
   "source": [
    "order_pay = order_m.select('payment_order_id','store_segment')\n",
    "payments = payments.join(order_pay, 'payment_order_id', 'inner')\n",
    "payments.show(5)"
   ]
  },
  {
   "cell_type": "code",
   "execution_count": 65,
   "id": "739eda46-3b18-40b3-92cc-8576289482be",
   "metadata": {},
   "outputs": [
    {
     "name": "stderr",
     "output_type": "stream",
     "text": [
      "                                                                                \r"
     ]
    },
    {
     "name": "stdout",
     "output_type": "stream",
     "text": [
      "unique values: 1456\n",
      "+-------+----------------------+-------------+------------------+\n",
      "|summary|payment_amount_rounded|store_segment|            number|\n",
      "+-------+----------------------+-------------+------------------+\n",
      "|  count|                  2092|         2092|              2092|\n",
      "|   mean|     953.3513384321224|         NULL|191.60325047801146|\n",
      "| stddev|    2613.6098950098276|         NULL| 740.7732071151547|\n",
      "|    min|                   0.0|         FOOD|                 1|\n",
      "|    max|              100000.0|         GOOD|             20212|\n",
      "+-------+----------------------+-------------+------------------+\n",
      "\n"
     ]
    }
   ],
   "source": [
    "payments = payments.withColumn('payment_amount_rounded', F.round(payments['payment_amount'], 0))\n",
    "amount = payments.groupBy('payment_amount_rounded', 'store_segment').agg(F.count('payment_amount').alias('number')).orderBy('payment_amount_rounded')\n",
    "print(f\"unique values: {payments.select('payment_amount_rounded').distinct().count()}\")\n",
    "amount.describe().show()\n"
   ]
  },
  {
   "cell_type": "code",
   "execution_count": 77,
   "id": "a8abb4c7-229c-429b-8a78-b96405f92e07",
   "metadata": {},
   "outputs": [
    {
     "name": "stderr",
     "output_type": "stream",
     "text": [
      "/Users/paulinapostek/Documents/Python/bd1/venv/lib/python3.12/site-packages/pyspark/sql/pandas/conversion.py:111: UserWarning: toPandas attempted Arrow optimization because 'spark.sql.execution.arrow.pyspark.enabled' is set to true; however, failed by the reason below:\n",
      "  PyArrow >= 4.0.0 must be installed; however, it was not found.\n",
      "Attempting non-optimization as 'spark.sql.execution.arrow.pyspark.fallback.enabled' is set to true.\n",
      "  warn(msg)\n",
      "/Users/paulinapostek/Documents/Python/bd1/venv/lib/python3.12/site-packages/pyspark/sql/pandas/conversion.py:111: UserWarning: toPandas attempted Arrow optimization because 'spark.sql.execution.arrow.pyspark.enabled' is set to true; however, failed by the reason below:\n",
      "  PyArrow >= 4.0.0 must be installed; however, it was not found.\n",
      "Attempting non-optimization as 'spark.sql.execution.arrow.pyspark.fallback.enabled' is set to true.\n",
      "  warn(msg)\n"
     ]
    },
    {
     "data": {
      "image/png": "[encoded data removed]",
      "text/plain": [
       "<Figure size 1200x600 with 2 Axes>"
      ]
     },
     "metadata": {},
     "output_type": "display_data"
    },
    {
     "data": {
      "text/plain": [
       "<Figure size 1000x600 with 0 Axes>"
      ]
     },
     "metadata": {},
     "output_type": "display_data"
    },
    {
     "data": {
      "text/html": [
       "<div>\n",
       "<style scoped>\n",
       "    .dataframe tbody tr th:only-of-type {\n",
       "        vertical-align: middle;\n",
       "    }\n",
       "\n",
       "    .dataframe tbody tr th {\n",
       "        vertical-align: top;\n",
       "    }\n",
       "\n",
       "    .dataframe thead th {\n",
       "        text-align: right;\n",
       "    }\n",
       "</style>\n",
       "<table border=\"1\" class=\"dataframe\">\n",
       "  <thead>\n",
       "    <tr style=\"text-align: right;\">\n",
       "      <th></th>\n",
       "      <th>payment_amount_rounded</th>\n",
       "      <th>store_segment</th>\n",
       "      <th>number</th>\n",
       "    </tr>\n",
       "  </thead>\n",
       "  <tbody>\n",
       "    <tr>\n",
       "      <th>440</th>\n",
       "      <td>496.0</td>\n",
       "      <td>FOOD</td>\n",
       "      <td>6</td>\n",
       "    </tr>\n",
       "    <tr>\n",
       "      <th>439</th>\n",
       "      <td>481.0</td>\n",
       "      <td>FOOD</td>\n",
       "      <td>10</td>\n",
       "    </tr>\n",
       "    <tr>\n",
       "      <th>438</th>\n",
       "      <td>474.0</td>\n",
       "      <td>FOOD</td>\n",
       "      <td>7</td>\n",
       "    </tr>\n",
       "    <tr>\n",
       "      <th>437</th>\n",
       "      <td>472.0</td>\n",
       "      <td>FOOD</td>\n",
       "      <td>8</td>\n",
       "    </tr>\n",
       "    <tr>\n",
       "      <th>436</th>\n",
       "      <td>468.0</td>\n",
       "      <td>FOOD</td>\n",
       "      <td>7</td>\n",
       "    </tr>\n",
       "  </tbody>\n",
       "</table>\n",
       "</div>"
      ],
      "text/plain": [
       "     payment_amount_rounded store_segment  number\n",
       "440                   496.0          FOOD       6\n",
       "439                   481.0          FOOD      10\n",
       "438                   474.0          FOOD       7\n",
       "437                   472.0          FOOD       8\n",
       "436                   468.0          FOOD       7"
      ]
     },
     "execution_count": 77,
     "metadata": {},
     "output_type": "execute_result"
    }
   ],
   "source": [
    "import seaborn as sns\n",
    "import matplotlib.pyplot as plt\n",
    "import pandas as pd\n",
    "\n",
    "good_p = amount.filter(amount['store_segment'] == 'GOOD')\n",
    "good = good_p.toPandas()\n",
    "food_p = amount.filter(amount['store_segment'] == 'FOOD')\n",
    "food = food_p.toPandas()\n",
    "\n",
    "fig, axs = plt.subplots(2, 1, figsize=(12, 6), gridspec_kw={'hspace':0.5})\n",
    "plt.figure(figsize=(10,6))\n",
    "sns.lineplot(data = food, x='payment_amount_rounded', y='number', ax=axs[0])\n",
    "sns.lineplot(data = good, x='payment_amount_rounded', y='number', ax=axs[1])\n",
    "axs[0].set_title('food order amount')\n",
    "axs[1].set_title('good order amount')\n",
    "plt.show()\n",
    "food.sort_values(by='payment_amount_rounded', ascending=False).head()"
   ]
  },
  {
   "cell_type": "code",
   "execution_count": null,
   "id": "982f47ed-c9fd-4434-a197-f3a40a86440d",
   "metadata": {},
   "outputs": [],
   "source": [
    "amount = amount.filter(amount['number'] > 5)\n",
    "paym_to_p = amount.toPandas()"
   ]
  },
  {
   "cell_type": "code",
   "execution_count": null,
   "id": "db73690a-8fa3-4ef7-9895-f079e2077e85",
   "metadata": {},
   "outputs": [],
   "source": [
    "spark.stop()"
   ]
  },
  {
   "cell_type": "code",
   "execution_count": null,
   "id": "15983a5b-8a3a-4058-8490-38c218b12e5b",
   "metadata": {},
   "outputs": [],
   "source": []
  }
 ],
 "metadata": {
  "kernelspec": {
   "display_name": "Python 3 (ipykernel)",
   "language": "python",
   "name": "python3"
  },
  "language_info": {
   "codemirror_mode": {
    "name": "ipython",
    "version": 3
   },
   "file_extension": ".py",
   "mimetype": "text/x-python",
   "name": "python",
   "nbconvert_exporter": "python",
   "pygments_lexer": "ipython3",
   "version": "3.12.1"
  }
 },
 "nbformat": 4,
 "nbformat_minor": 5
}
