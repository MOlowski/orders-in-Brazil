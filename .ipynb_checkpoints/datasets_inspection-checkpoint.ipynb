{
 "cells": [
  {
   "cell_type": "code",
   "execution_count": 1,
   "id": "a1ff9b82-7e28-4c22-86f8-4483fc2ba8f9",
   "metadata": {},
   "outputs": [],
   "source": [
    "import pyspark\n",
    "from pyspark.sql import SparkSession\n",
    "from pyspark.sql.types import StructType"
   ]
  },
  {
   "cell_type": "code",
   "execution_count": 5,
   "id": "ee5da1cc-ba3a-4d11-811d-5da234cd15d7",
   "metadata": {},
   "outputs": [],
   "source": [
    "spark = SparkSession.builder.appName(\"hdfs_test\").getOrCreate()"
   ]
  },
  {
   "cell_type": "code",
   "execution_count": 13,
   "id": "48821737-6779-4108-8ba9-ed7b1011a755",
   "metadata": {},
   "outputs": [
    {
     "name": "stdout",
     "output_type": "stream",
     "text": [
      "+----------+------------+------------+\n",
      "|channel_id|channel_name|channel_type|\n",
      "+----------+------------+------------+\n",
      "|         1| OTHER PLACE| OWN CHANNEL|\n",
      "|         2| PHONE PLACE| OWN CHANNEL|\n",
      "|         3| WHATS PLACE| OWN CHANNEL|\n",
      "|         4|  FACE PLACE| OWN CHANNEL|\n",
      "|         5|  FOOD PLACE| MARKETPLACE|\n",
      "+----------+------------+------------+\n",
      "only showing top 5 rows\n",
      "\n",
      "+-----------+-----------------+---------+------------------------+---------------+\n",
      "|delivery_id|delivery_order_id|driver_id|delivery_distance_meters|delivery_status|\n",
      "+-----------+-----------------+---------+------------------------+---------------+\n",
      "|    2174658|         68413340|     8378|                    5199|      DELIVERED|\n",
      "|    2174660|         68414309|     2473|                     410|      DELIVERED|\n",
      "|    2174661|         68416230|     7615|                    3784|      DELIVERED|\n",
      "|    2174663|         68412721|     8378|                    5714|      DELIVERED|\n",
      "|    2174675|         68414018|    10463|                    3746|      DELIVERED|\n",
      "+-----------+-----------------+---------+------------------------+---------------+\n",
      "only showing top 5 rows\n",
      "\n",
      "+---------+------------+-----------------+\n",
      "|driver_id|driver_modal|      driver_type|\n",
      "+---------+------------+-----------------+\n",
      "|      133|     MOTOBOY|LOGISTIC OPERATOR|\n",
      "|      138|     MOTOBOY|        FREELANCE|\n",
      "|      140|     MOTOBOY|        FREELANCE|\n",
      "|      143|       BIKER|        FREELANCE|\n",
      "|      148|     MOTOBOY|        FREELANCE|\n",
      "+---------+------------+-----------------+\n",
      "only showing top 5 rows\n",
      "\n",
      "+------+---------------+--------------+---------+------------+-------------+\n",
      "|hub_id|       hub_name|      hub_city|hub_state|hub_latitude|hub_longitude|\n",
      "+------+---------------+--------------+---------+------------+-------------+\n",
      "|     2|  BLUE SHOPPING|  PORTO ALEGRE|       RS| -30.0474148|    -51.21351|\n",
      "|     3| GREEN SHOPPING|  PORTO ALEGRE|       RS| -30.0374149|    -51.20352|\n",
      "|     4|   RED SHOPPING|  PORTO ALEGRE|       RS| -30.0219481|  -51.2083816|\n",
      "|     5|  FUNK SHOPPING|RIO DE JANEIRO|       RJ| -23.0007498|   -43.318282|\n",
      "|     8|GOLDEN SHOPPING|RIO DE JANEIRO|       RJ|  -22.921475|   -43.234774|\n",
      "+------+---------------+--------------+---------+------------+-------------+\n",
      "only showing top 5 rows\n",
      "\n"
     ]
    },
    {
     "name": "stderr",
     "output_type": "stream",
     "text": [
      "24/04/20 01:21:21 WARN SparkStringUtils: Truncated the string representation of a plan since it was too large. This behavior can be adjusted by setting 'spark.sql.debug.maxToStringFields'.\n"
     ]
    },
    {
     "name": "stdout",
     "output_type": "stream",
     "text": [
      "+--------+--------+----------+----------------+-----------------+------------+------------+------------------+-------------------+------------------+--------------------+-----------------+-------------------+------------------+--------------------+---------------------+------------------+----------------------+--------------------------+-----------------------+----------------------+---------------------+---------------------------+------------------------+----------------------------+-------------------------+---------------------------------+-------------------------+-----------------------+\n",
      "|order_id|store_id|channel_id|payment_order_id|delivery_order_id|order_status|order_amount|order_delivery_fee|order_delivery_cost|order_created_hour|order_created_minute|order_created_day|order_created_month|order_created_year|order_moment_created|order_moment_accepted|order_moment_ready|order_moment_collected|order_moment_in_expedition|order_moment_delivering|order_moment_delivered|order_moment_finished|order_metric_collected_time|order_metric_paused_time|order_metric_production_time|order_metric_walking_time|order_metric_expediton_speed_time|order_metric_transit_time|order_metric_cycle_time|\n",
      "+--------+--------+----------+----------------+-----------------+------------+------------+------------------+-------------------+------------------+--------------------+-----------------+-------------------+------------------+--------------------+---------------------+------------------+----------------------+--------------------------+-----------------------+----------------------+---------------------+---------------------------+------------------------+----------------------------+-------------------------+---------------------------------+-------------------------+-----------------------+\n",
      "|68405119|    3512|         5|        68405119|         68405119|    CANCELED|        62.7|               0.0|               NULL|                 0|                   1|                1|                  1|              2021|1/1/2021 12:01:36 AM|                 NULL|              NULL|                  NULL|                      NULL|                   NULL|                  NULL|                 NULL|                       NULL|                    NULL|                        NULL|                     NULL|                             NULL|                     NULL|                   NULL|\n",
      "|68405123|    3512|         5|        68405123|         68405123|    CANCELED|        62.7|               0.0|               NULL|                 0|                   4|                1|                  1|              2021|1/1/2021 12:04:26 AM|                 NULL|              NULL|                  NULL|                      NULL|                   NULL|                  NULL|                 NULL|                       NULL|                    NULL|                        NULL|                     NULL|                             NULL|                     NULL|                   NULL|\n",
      "|68405206|    3512|         5|        68405206|         68405206|    CANCELED|       115.5|               0.0|               NULL|                 0|                  13|                1|                  1|              2021|1/1/2021 12:13:07 AM|                 NULL|              NULL|                  NULL|                      NULL|                   NULL|                  NULL|                 NULL|                       NULL|                    NULL|                        NULL|                     NULL|                             NULL|                     NULL|                   NULL|\n",
      "|68405465|    3401|         5|        68405465|         68405465|    CANCELED|        55.9|               0.0|               NULL|                 0|                  19|                1|                  1|              2021|1/1/2021 12:19:15 AM|                 NULL|              NULL|                  NULL|                      NULL|                   NULL|                  NULL|                 NULL|                       NULL|                    NULL|                        NULL|                     NULL|                             NULL|                     NULL|                   NULL|\n",
      "|68406064|    3401|         5|        68406064|         68406064|    CANCELED|        37.9|               0.0|               NULL|                 0|                  26|                1|                  1|              2021|1/1/2021 12:26:25 AM|                 NULL|              NULL|                  NULL|                      NULL|                   NULL|                  NULL|                 NULL|                       NULL|                    NULL|                        NULL|                     NULL|                             NULL|                     NULL|                   NULL|\n",
      "+--------+--------+----------+----------------+-----------------+------------+------------+------------------+-------------------+------------------+--------------------+-----------------+-------------------+------------------+--------------------+---------------------+------------------+----------------------+--------------------------+-----------------------+----------------------+---------------------+---------------------------+------------------------+----------------------------+-------------------------+---------------------------------+-------------------------+-----------------------+\n",
      "only showing top 5 rows\n",
      "\n",
      "+----------+----------------+--------------+-----------+--------------+--------------+\n",
      "|payment_id|payment_order_id|payment_amount|payment_fee|payment_method|payment_status|\n",
      "+----------+----------------+--------------+-----------+--------------+--------------+\n",
      "|   4427917|        68410055|        118.44|        0.0|       VOUCHER|          PAID|\n",
      "|   4427918|        68410055|        394.81|        7.9|        ONLINE|          PAID|\n",
      "|   4427941|        68412721|        206.95|       5.59|        ONLINE|          PAID|\n",
      "|   4427948|        68413340|          58.8|       1.59|        ONLINE|          PAID|\n",
      "|   4427955|        68414018|          45.8|       0.92|        ONLINE|          PAID|\n",
      "+----------+----------------+--------------+-----------+--------------+--------------+\n",
      "only showing top 5 rows\n",
      "\n",
      "+--------+------+-----------------+-------------+----------------+--------------+---------------+\n",
      "|store_id|hub_id|       store_name|store_segment|store_plan_price|store_latitude|store_longitude|\n",
      "+--------+------+-----------------+-------------+----------------+--------------+---------------+\n",
      "|       3|     2|          CUMIURI|         FOOD|             0.0|          NULL|           NULL|\n",
      "|       6|     3|PIMGUCIS DA VIVA |         FOOD|             0.0|   -30.0374149|      -51.20352|\n",
      "|       8|     3|        RASMUR S |         FOOD|             0.0|   -30.0374149|      -51.20352|\n",
      "|      53|     8|      PAPA SUCIS |         FOOD|             0.0|    -22.921475|     -43.234822|\n",
      "|      54|     8|    VUZPI PAZZIS |         FOOD|             0.0|    -22.921475|     -43.234822|\n",
      "+--------+------+-----------------+-------------+----------------+--------------+---------------+\n",
      "only showing top 5 rows\n",
      "\n"
     ]
    }
   ],
   "source": [
    "files = ['channels', 'deliveries', 'drivers', 'hubs', 'orders', 'payments', 'stores']\n",
    "dfs = {}\n",
    "\n",
    "for file in files:\n",
    "    dfs[file] = spark.read.csv(\"hdfs://localhost:9000/user/maciek/\"+file+\".csv\", header=True, inferSchema=True)\n",
    "    dfs[file].show(5)\n"
   ]
  },
  {
   "cell_type": "code",
   "execution_count": 15,
   "id": "20c7f0c8-6a86-413e-a166-8aae4fe41f89",
   "metadata": {
    "scrolled": true
   },
   "outputs": [
    {
     "name": "stdout",
     "output_type": "stream",
     "text": [
      "(40, 3)\n",
      "(378843, 5)\n",
      "(4824, 3)\n",
      "(32, 6)\n",
      "(368999, 29)\n",
      "(400834, 6)\n",
      "(951, 7)\n"
     ]
    }
   ],
   "source": [
    "import pandas as pd\n",
    "\n",
    "folder= 'dataset/'\n",
    "files = ['channels', 'deliveries', 'drivers', 'hubs', 'orders', 'payments', 'stores']\n",
    "dfs = {}\n",
    "for file in files:\n",
    "    dfs[file] = pd.read_csv(folder+file+'.csv', encoding = 'latin1')\n",
    "    print(dfs[file].shape)"
   ]
  },
  {
   "cell_type": "code",
   "execution_count": 17,
   "id": "e62f0d1f-8cdb-47fe-bea3-f46520194f29",
   "metadata": {
    "collapsed": true,
    "jupyter": {
     "outputs_hidden": true
    }
   },
   "outputs": [
    {
     "name": "stdout",
     "output_type": "stream",
     "text": [
      "   channel_id channel_name channel_type\n",
      "0           1  OTHER PLACE  OWN CHANNEL\n",
      "1           2  PHONE PLACE  OWN CHANNEL\n",
      "2           3  WHATS PLACE  OWN CHANNEL\n",
      "3           4   FACE PLACE  OWN CHANNEL\n",
      "4           5   FOOD PLACE  MARKETPLACE\n",
      "   delivery_id  delivery_order_id  driver_id  delivery_distance_meters  \\\n",
      "0      2174658           68413340     8378.0                    5199.0   \n",
      "1      2174660           68414309     2473.0                     410.0   \n",
      "2      2174661           68416230     7615.0                    3784.0   \n",
      "3      2174663           68412721     8378.0                    5714.0   \n",
      "4      2174675           68414018    10463.0                    3746.0   \n",
      "\n",
      "  delivery_status  \n",
      "0       DELIVERED  \n",
      "1       DELIVERED  \n",
      "2       DELIVERED  \n",
      "3       DELIVERED  \n",
      "4       DELIVERED  \n",
      "   driver_id driver_modal        driver_type\n",
      "0        133      MOTOBOY  LOGISTIC OPERATOR\n",
      "1        138      MOTOBOY          FREELANCE\n",
      "2        140      MOTOBOY          FREELANCE\n",
      "3        143        BIKER          FREELANCE\n",
      "4        148      MOTOBOY          FREELANCE\n",
      "   hub_id         hub_name        hub_city hub_state  hub_latitude  \\\n",
      "0       2    BLUE SHOPPING    PORTO ALEGRE        RS    -30.047415   \n",
      "1       3   GREEN SHOPPING    PORTO ALEGRE        RS    -30.037415   \n",
      "2       4     RED SHOPPING    PORTO ALEGRE        RS    -30.021948   \n",
      "3       5    FUNK SHOPPING  RIO DE JANEIRO        RJ    -23.000750   \n",
      "4       8  GOLDEN SHOPPING  RIO DE JANEIRO        RJ    -22.921475   \n",
      "\n",
      "   hub_longitude  \n",
      "0     -51.213510  \n",
      "1     -51.203520  \n",
      "2     -51.208382  \n",
      "3     -43.318282  \n",
      "4     -43.234774  \n",
      "   order_id  store_id  channel_id  payment_order_id  delivery_order_id  \\\n",
      "0  68405119      3512           5          68405119           68405119   \n",
      "1  68405123      3512           5          68405123           68405123   \n",
      "2  68405206      3512           5          68405206           68405206   \n",
      "3  68405465      3401           5          68405465           68405465   \n",
      "4  68406064      3401           5          68406064           68406064   \n",
      "\n",
      "  order_status  order_amount  order_delivery_fee  order_delivery_cost  \\\n",
      "0     CANCELED          62.7                 0.0                  NaN   \n",
      "1     CANCELED          62.7                 0.0                  NaN   \n",
      "2     CANCELED         115.5                 0.0                  NaN   \n",
      "3     CANCELED          55.9                 0.0                  NaN   \n",
      "4     CANCELED          37.9                 0.0                  NaN   \n",
      "\n",
      "   order_created_hour  ...  order_moment_delivering  order_moment_delivered  \\\n",
      "0                   0  ...                      NaN                     NaN   \n",
      "1                   0  ...                      NaN                     NaN   \n",
      "2                   0  ...                      NaN                     NaN   \n",
      "3                   0  ...                      NaN                     NaN   \n",
      "4                   0  ...                      NaN                     NaN   \n",
      "\n",
      "   order_moment_finished  order_metric_collected_time  \\\n",
      "0                    NaN                          NaN   \n",
      "1                    NaN                          NaN   \n",
      "2                    NaN                          NaN   \n",
      "3                    NaN                          NaN   \n",
      "4                    NaN                          NaN   \n",
      "\n",
      "  order_metric_paused_time order_metric_production_time  \\\n",
      "0                      NaN                          NaN   \n",
      "1                      NaN                          NaN   \n",
      "2                      NaN                          NaN   \n",
      "3                      NaN                          NaN   \n",
      "4                      NaN                          NaN   \n",
      "\n",
      "  order_metric_walking_time order_metric_expediton_speed_time  \\\n",
      "0                       NaN                               NaN   \n",
      "1                       NaN                               NaN   \n",
      "2                       NaN                               NaN   \n",
      "3                       NaN                               NaN   \n",
      "4                       NaN                               NaN   \n",
      "\n",
      "  order_metric_transit_time order_metric_cycle_time  \n",
      "0                       NaN                     NaN  \n",
      "1                       NaN                     NaN  \n",
      "2                       NaN                     NaN  \n",
      "3                       NaN                     NaN  \n",
      "4                       NaN                     NaN  \n",
      "\n",
      "[5 rows x 29 columns]\n",
      "   payment_id  payment_order_id  payment_amount  payment_fee payment_method  \\\n",
      "0     4427917          68410055          118.44         0.00        VOUCHER   \n",
      "1     4427918          68410055          394.81         7.90         ONLINE   \n",
      "2     4427941          68412721          206.95         5.59         ONLINE   \n",
      "3     4427948          68413340           58.80         1.59         ONLINE   \n",
      "4     4427955          68414018           45.80         0.92         ONLINE   \n",
      "\n",
      "  payment_status  \n",
      "0           PAID  \n",
      "1           PAID  \n",
      "2           PAID  \n",
      "3           PAID  \n",
      "4           PAID  \n",
      "   store_id  hub_id         store_name store_segment  store_plan_price  \\\n",
      "0         3       2            CUMIURI          FOOD               0.0   \n",
      "1         6       3  PIMGUCIS DA VIVA           FOOD               0.0   \n",
      "2         8       3          RASMUR S           FOOD               0.0   \n",
      "3        53       8        PAPA SUCIS           FOOD               0.0   \n",
      "4        54       8      VUZPI PAZZIS           FOOD               0.0   \n",
      "\n",
      "   store_latitude  store_longitude  \n",
      "0             NaN              NaN  \n",
      "1      -30.037415       -51.203520  \n",
      "2      -30.037415       -51.203520  \n",
      "3      -22.921475       -43.234822  \n",
      "4      -22.921475       -43.234822  \n"
     ]
    }
   ],
   "source": [
    "for file in files:\n",
    "    print(dfs[file].head())"
   ]
  }
 ],
 "metadata": {
  "kernelspec": {
   "display_name": "Python 3 (ipykernel)",
   "language": "python",
   "name": "python3"
  },
  "language_info": {
   "codemirror_mode": {
    "name": "ipython",
    "version": 3
   },
   "file_extension": ".py",
   "mimetype": "text/x-python",
   "name": "python",
   "nbconvert_exporter": "python",
   "pygments_lexer": "ipython3",
   "version": "3.12.1"
  }
 },
 "nbformat": 4,
 "nbformat_minor": 5
}
